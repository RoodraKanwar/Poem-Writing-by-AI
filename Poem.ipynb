{
  "nbformat": 4,
  "nbformat_minor": 0,
  "metadata": {
    "colab": {
      "name": "Poem.ipynb",
      "provenance": [],
      "collapsed_sections": []
    },
    "kernelspec": {
      "name": "python3",
      "display_name": "Python 3"
    },
    "accelerator": "GPU"
  },
  "cells": [
    {
      "cell_type": "markdown",
      "metadata": {
        "id": "az0jj750kkEL",
        "colab_type": "text"
      },
      "source": [
        "# **PABLO NERUDA'S POEM WRITTEN BY AI**"
      ]
    },
    {
      "cell_type": "markdown",
      "metadata": {
        "id": "Bzw7MQ-Sj550",
        "colab_type": "text"
      },
      "source": [
        "I have compiled Pablo Neruda's 60 poems into a .txt file. This file is uploaded in the google drive so that Google Colab can easily run the file any time I want without having to re-upload it again after 12 hours, as we know, Google Colab Environment removes any file uploaded after 12 hours. This saves time and others can easily upload the file too with giving the correct File path."
      ]
    },
    {
      "cell_type": "markdown",
      "metadata": {
        "id": "1z-wEYoOktKH",
        "colab_type": "text"
      },
      "source": [
        "Below are the libraries which are being used by the Project. Now, this code has been taken from [TensorFlow Tutorials](https://colab.research.google.com/github/lmoroney/dlaicourse/blob/master/TensorFlow%20In%20Practice/Course%203%20-%20NLP/Course%203%20-%20Week%204%20-%20Lesson%202%20-%20Notebook.ipynb#scrollTo=6Vc6PHgxa6Hm) which can be found in this link or you can search for the playlist on YouTube which clearly explains all the concepts required to understand NLP. Search for Tensorflow NLP Playlist on YouTube and you will easily find the playlist.\n",
        "\n",
        "\n",
        "\n",
        "Although, the tutorial is used by me, I have made some changes to the code such that the preprocessing is easier and it gives a better accuracy than it was giving in the link I have attached.\n"
      ]
    },
    {
      "cell_type": "markdown",
      "metadata": {
        "id": "u2BV7Gmxl68O",
        "colab_type": "text"
      },
      "source": [
        "\n",
        "In the tutorial an Irish song is used which has good number of words in a line. The problem lies with poem as they don't have a fixed number of words in a line so they can either be too short or too long. This creates problem with making poems accurate so I used a whole paragraph as a sentence in the poem which gives up decent output as a poem. I have attached an output with this file. You can check that out.\n",
        "---\n",
        "1.) The libraries have been imported and I will try my best to exaplain all the reasoning behind the code.\n",
        "\n",
        "1.1) Tensorflow has been imported.\n",
        "\n",
        "1.2) pad_sequences are used such that all the sentences being sent for training are of equal words with equal length.\n",
        "\n",
        "1.3) Embedding is used to determine semantic relationship between words such that the context is understood. Along with that, Dense model is being used which means all the neurons are interconnected in all the layers, Bidirectional LSTM is being used which is used to determine the relationship between words which are far away.\n",
        "\n",
        "1.4) Tokenizer is used to assign token ( serial numbers ) to sentences.\n",
        "\n",
        "1.5) Sequential means that the model being used is in a certain sequence which is that a particular layer precedes another layer and so on.\n",
        "\n",
        "1.6) Adam is the optimizer being used here.\n",
        "\n",
        "1.7) Numpy library is used.\n",
        "\n",
        "1.8) nltk library for preprocessing of data is used.\n",
        "\n",
        "1.9) re means regular expressions and it is used for data cleaning in the preprocessing stage.\n",
        "\n"
      ]
    },
    {
      "cell_type": "code",
      "metadata": {
        "id": "EcWBkAD1bvQJ",
        "colab_type": "code",
        "colab": {
          "base_uri": "https://localhost:8080/",
          "height": 68
        },
        "outputId": "0df53739-e718-435f-a417-c1fbdeb1aae8"
      },
      "source": [
        "import tensorflow as tf\n",
        "from tensorflow.keras.preprocessing.sequence import pad_sequences\n",
        "from tensorflow.keras.layers import Embedding, LSTM, Dense, Bidirectional\n",
        "from tensorflow.keras.preprocessing.text import Tokenizer\n",
        "from tensorflow.keras.models import Sequential\n",
        "from tensorflow.keras.optimizers import Adam\n",
        "import numpy as np \n",
        "import nltk\n",
        "import re\n",
        "nltk.download('punkt')\n"
      ],
      "execution_count": 1,
      "outputs": [
        {
          "output_type": "stream",
          "text": [
            "[nltk_data] Downloading package punkt to /root/nltk_data...\n",
            "[nltk_data]   Unzipping tokenizers/punkt.zip.\n"
          ],
          "name": "stdout"
        },
        {
          "output_type": "execute_result",
          "data": {
            "text/plain": [
              "True"
            ]
          },
          "metadata": {
            "tags": []
          },
          "execution_count": 1
        }
      ]
    },
    {
      "cell_type": "markdown",
      "metadata": {
        "id": "PcVGI-4spY4U",
        "colab_type": "text"
      },
      "source": [
        "This takes the authorization to use Google Drive.\n"
      ]
    },
    {
      "cell_type": "code",
      "metadata": {
        "id": "qpfo5ilcBOEo",
        "colab_type": "code",
        "colab": {
          "base_uri": "https://localhost:8080/",
          "height": 34
        },
        "outputId": "c4a3452c-2715-4514-95ae-2c40ef5a1969"
      },
      "source": [
        "from google.colab import drive\n",
        "drive.mount('/content/drive')"
      ],
      "execution_count": 2,
      "outputs": [
        {
          "output_type": "stream",
          "text": [
            "Drive already mounted at /content/drive; to attempt to forcibly remount, call drive.mount(\"/content/drive\", force_remount=True).\n"
          ],
          "name": "stdout"
        }
      ]
    },
    {
      "cell_type": "markdown",
      "metadata": {
        "id": "d9bPTU3_pntY",
        "colab_type": "text"
      },
      "source": [
        "2.1)Tokenizer is the class being called and the 'tokenizer' variable is the instance of the Tokenizer() class.\n",
        "\n",
        "2.2)The file path to the text file can be found by copying file path.\n",
        "\n",
        "2.3)'clean' variable is used to make sentences of the text file.\n",
        "\n",
        "2.4)'corpus' variable is used to store the words generated after cleaning of the data in the file.\n",
        "\n",
        "2.5)Now a loop is run until the length of the sentences in the Pablo Neruda text  file\n",
        "\n",
        "2.6)The first review clears the file of everything except the text and replaces other characters other than text with whitespace.\n",
        "\n",
        "2.7)The second review lowers all the characters to lowercase.\n",
        "\n",
        "2.8)The third review splits the sentences on the basis of whitespace.\n",
        "\n",
        "2.9)The fourth review joins the sentences with whitepsace.\n",
        "\n",
        "2.10)The setences contained in review are then appended to the back of the corpus variable.\n",
        "\n",
        "2.11)Now numbers are alloted to the words in the corpus variable.\n",
        "\n",
        "2.12)The total number of unique words are saved in 'total_words' variable.\n"
      ]
    },
    {
      "cell_type": "code",
      "metadata": {
        "id": "AVS-5JGib0AD",
        "colab_type": "code",
        "colab": {
          "base_uri": "https://localhost:8080/",
          "height": 88
        },
        "outputId": "ce29e14c-855b-4ca6-9199-f0e7bdf23e11"
      },
      "source": [
        "tokenizer = Tokenizer()                                                           #2.1\n",
        "\n",
        "data = open('/content/drive/My Drive/Poem AI/Pablo Neruda.txt').read()            #2.2\n",
        "clean = nltk.sent_tokenize(data)                                                  #2.3\n",
        "                           \n",
        "corpus = []                                                                       #2.4                                               \n",
        "for i in range(0, len(clean)):                                                    #2.5\n",
        "    review = re.sub('[^a-zA-Z]', ' ', clean[i])                                   #2.6\n",
        "    review = review.lower()                                                       #2.7\n",
        "    review = review.split()                                                       #2.8\n",
        "    review = ' '.join(review)                                                     #2.9\n",
        "    corpus.append(review)                                                         #2.10\n",
        "\n",
        "print(corpus)\n",
        "\n",
        "tokenizer.fit_on_texts(corpus)                                                    #2.11\n",
        "total_words = len(tokenizer.word_index) + 1                                       #2.12\n",
        "\n",
        "print(tokenizer.word_index)\n",
        "print(total_words)"
      ],
      "execution_count": 3,
      "outputs": [
        {
          "output_type": "stream",
          "text": [
            "['i want you to know one thing', 'you know how this is if i look at the crystal moon at the red branch of the slow autumn at my window if i touch near the fire the impalpable ash or the wrinkled body of the log everything carries me to you as if everything that exists aromas light metals were little boats that sail toward those isles of yours that wait for me', 'well now if little by little you stop loving me i shall stop loving you little by little', 'if suddenly you forget me do not look for me for i shall already have forgotten you', 'if you think it long and mad the wind of banners that passes through my life and you decide to leave me at the shore of the heart where i have roots remember that on that day at that hour i shall lift my arms and my roots will set off to seek another land', 'but if each day each hour you feel that you are destined for me with implacable sweetness if each day a flower climbs up to your lips to seek me ah my love ah my own in me all that fire is repeated in me nothing is extinguished or forgotten my love feeds on your love beloved and as long as you live it will be in your arms without leaving mine', 'i do not love you except because i love you i go from loving to not loving you from waiting to not waiting for you my heart moves from cold to fire', 'i love you only because it s you the one i love i hate you deeply and hating you bend to you and the measure of my changing love for you is that i do not see you but love you blindly', 'maybe january light will consume my heart with its cruel ray stealing my key to true calm', 'in this part of the story i am the one who dies the only one and i will die of love because i love you because i love you love in fire and blood', 'i crave your mouth your voice your hair', 'silent and starving i prowl through the streets', 'bread does not nourish me dawn disrupts me all day i hunt for the liquid measure of your steps', 'i hunger for your sleek laugh your hands the color of a savage harvest hunger for the pale stones of your fingernails i want to eat your skin like a whole almond', 'i want to eat the sunbeam flaring in your lovely body the sovereign nose of your arrogant face i want to eat the fleeting shade of your lashes and i pace around hungry sniffing the twilight hunting for you for your hot heart like a puma in the barrens of quitratue', 'here i love you', 'in the dark pines the wind disentangles itself', 'the moon glows like phosphorous on the vagrant waters', 'days all one kind go chasing each other', 'the snow unfurls in dancing figures', 'a silver gull slips down from the west', 'sometimes a sail', 'high high stars', 'oh the black cross of a ship', 'alone', 'sometimes i get up early and even my soul is wet', 'far away the sea sounds and resounds', 'this is a port', 'here i love you', 'here i love you and the horizon hides you in vain', 'i love you still among these cold things', 'sometimes my kisses go on those heavy vessels that cross the sea towards no arrival', 'i see myself forgotten like those old anchors', 'the piers sadden when the afternoon moors there', 'my life grows tired hungry to no purpose', 'i love what i do not have', 'you are so far', 'my loathing wrestles with the slow twilights', 'but night comes and starts to sing to me', 'the moon turns its clockwork dream', 'the biggest stars look at me with your eyes', 'and as i love you the pines in the wind want to sing your name with their leaves of wire', 'the young maricones and the horny muchachas the big fat widows delirious from insomnia the young wives thirty hours pregnant and the hoarse tomcats that cross my garden at night like a collar of palpitating sexual oysters surround my solitary home enemies of my soul conspirators in pajamas who exchange deep kisses for passwords', 'radiant summer brings out the lovers in melancholy regiments fat and thin and happy and sad couples under the elegant coconut palms near the ocean and moon there is a continual life of pants and panties a hum from the fondling of silk stockings and women s breasts that glisten like eyes', 'the salary man after a while after the week s tedium and the novels read in bed at night has decisively fucked his neighbor and now takes her to the miserable movies where the heroes are horses or passionate princes and he caresses her legs covered with sweet down with his ardent and sweaty palms that smell like cigarettes', 'the night of the hunter and the night of the husband come together like bed sheets and bury me and the hours after lunch when the students and priests are masturbating and the animals mount each other openly and the bees smell of blood and the flies buzz cholerically and cousins play strange games with cousins and doctors glower at the husband of the young patient and the early morning in which the professor without a thought pays his conjugal debt and eats breakfast and to top it all off the adulterers who love each other truly on beds big and tall as ships so eternally this twisted and breathing forest crushes me with gigantic flowers like mouth and teeth and black roots like fingernails and shoes', 'the names of god and especially those of his representative who is called jesus or christ according to holy books and someone s mouth these names have been used worn out and left on the shores of rivers of of human lives like the empty shells of a mollusk', 'however when we touch these sacred but exhausted names these wounded scattered petals which have come out of the oceans of love and fear something still remains a sip of water a rainbow footprint that still shimmers in the light', 'while the names of god were used by the best and the worst by the clean and the dirty by the white and the black by bloody murderers and by victims flaming gold with napalm while nixon with his hands of cain blessed those whom he condemned to death while fewer and fewer divine footprints were found on the beach people began to study colors the future of honey the sign of uranium they looked with anxiety and hope for the possibilities of killing themselves or not killing themselves of organizing themselves into a fabric of going further on of breaking through limits without stopping what we came across in these blood thirsty times with their smoke of burning trash their dead ashes as we weren t able to stop looking we often stopped to look at the names of god we lifted them with tenderness because they reminded us of our ancestors of the first people those who said the prayers those who discovered the hymn that united them in misfortune and now seeing the empty fragments which sheltered those ancient people we feel those smooth substances worn out and used up by good and by evil', 'rise up to be born with me brother', 'give me your hand from the deep zone seeded by your sorrow', 'you won t return from under the rocks', 'you won t return from your subterranean time', 'your hardened voice won t return', 'your gouged out eyes won t return', 'look at me from the depth of the earth laborer weaver silent shepherd tamer of wild llamas like spirit images construction worker on a daring scaffold waterer of the tears of the andes jeweler with broken fingers farmer trembling as you sow potter poured out into your clay bring to the cup of this new life your old buried sorrows', 'show me your blood and your furrow tell me here i was punished because the jewel didn t shine or the earth didn t yield grain or stones on time show me the stone you fell over and the wood on which they crucified you make a spark from the old flints for me for the old lamps to show the whips still stuck after centuries in the old wounds and the axes shining with blood', 'i come to speak for your dead mouth', 'across the earth come together all the silent worn out lips and from the depth speak to me all this long night like i was pinned down there with you', 'tell me all chain by chain link by link and step by step sharpen the knives which you hid put them in my breast and in my hand like a river of yellow lighting like a river of buried jaguars and let me weep hours days years for blind ages cycles of stars', 'give me silence water hope', 'give me struggle iron volcanoes', 'stick bodies to me like magnets', 'draw near to my veins and my mouth', 'speak through my words and my blood', 'tell me is the rose naked or is that her only dress', 'why do trees conceal the splendor of their roots', 'who hears the regrets of the thieving automobile', 'is there anything in the world sadder than a train standing in the rain', 'i can write the saddest lines tonight', 'write for example the night is fractured and they shiver blue those stars in the distance the night wind turns in the sky and sings', 'i can write the saddest lines tonight', 'i loved her sometimes she loved me too', 'on nights like these i held her in my arms', 'i kissed her greatly under the infinite sky', 'she loved me sometimes i loved her too', 'how could i not have loved her huge still eyes', 'i can write the saddest lines tonight', 'to think i don t have her to feel i have lost her', 'hear the vast night vaster without her', 'lines fall on the soul like dew on the grass', 'what does it matter that i couldn t keep her', 'the night is fractured and she is not with me', 'that is all', 'someone sings far off', 'far off my soul is not content to have lost her', 'as though to reach her my sight looks for her', 'my heart looks for her she is not with me the same night whitens in the same branches', 'we from that time we are not the same', 'i don t love her that s certain but how i loved her', 'my voice tried to find the breeze to reach her', 'another s kisses on her like my kisses', 'her voice her bright body infinite eyes', 'i don t love her that s certain but perhaps i love her', 'love is brief forgetting lasts so long', 'since on these nights i held her in my arms my soul is not content to have lost her', 'though this is the last pain she will make me suffer and these are the last lines i will write for her', 'fleas interest me so much that i let them bite me for hours', 'they are perfect ancient sanskrit machines that admit of no appeal', 'they do not bite to eat they bite only to jump they are the dancers of the celestial sphere delicate acrobats in the softest and most profound circus let them gallop on my skin divulge their emotions amuse themselves with my blood but someone should introduce them to me', 'i want to know them closely i want to know what to rely on', 'matilde years or days sleeping feverish here or there gazing off twisting my spine bleeding true blood perhaps i awaken or am lost sleeping hospital beds foreign windows white uniforms of the silent walkers the clumsiness of feet', 'and then these journeys and my sea of renewal your head on the pillow your hands floating in the light in my light over my earth', 'it was beautiful to live when you lived', 'the world is bluer and of the earth at night when i sleep enormous within your small hands all those men were there inside when she came in totally naked', 'they had been drinking they began to spit', 'newly come from the river she knew nothing', 'she was a mermaid who had lost her way', 'the insults flowed down her gleaming flesh', 'obscenities drowned her golden breasts', 'not knowing tears she did not weep tears', 'not knowing clothes she did not have clothes', 'they blackened her with burnt corks and cigarette stubs and rolled around laughing on the tavern floor', 'she did not speak because she had no speech', 'her eyes were the colour of distant love her twin arms were made of white topaz', 'her lips moved silent in a coral light and suddenly she went out by that door', 'entering the river she was cleaned shining like a white stone in the rain and without looking back she swam again swam towards emptiness swam towards death', 'do you remember when in winter we reached the island', 'the sea raised toward us a crown of cold', 'on the walls the climbing vines murmured letting dark leaves fall as we passed', 'you too were a little leaf that trembled on my chest', 'life s wind put you there', 'at first i did not see you i did not know that you were walking with me until your roots pierced my chest joined the threads of my blood spoke through my mouth flourished with me', 'thus was your inadvertent presence invisible leaf or branch and suddenly my heart was filled with fruits and sounds you occupied the house that darkly awaited you and then you lit the lamps', 'the island of stone and moss echoed in the secret of its grottoes like the song in your mouth and the flower that was born between the crevices of the stone with its secret syllable spole as it passed your name of blazing plant and the steep rock raised like the wall of the world knew my song well beloved and all things spoke of your love my love beloved because earth time sea island life tide the seed that half opens its lips in the earth the devouring flower the movement of spring everything recognizes us', 'our love was born outside the walls in the wind in the night in the earth and that s why the clay and the flower the mud and the roots know your name and know that my mouth joined yours because we were sown together in the earth and we alone did not know it and that we grow together and flower together and therefore when we pass your name is on the petals of the rose that grows on the stone my name is in the grottoes they know it all we have no secrets we have grown together but we did not know it', 'the sea knows our love the stones of the rocky height know that our kisses flowered with infinite purity as in their crevices a scarlet mouth dawns just as our love and the kiss that joins your mouth and mine in an eternal flower', 'my love sweet spring flower and sea surround us', 'we did not change it for our winter when the wind began to decipher your name and today at all hours it repeats when the leaves did not know that you were a leaf when the roots did not know that you were seeking me in my breast', 'love love spring offers us the sky but the dark earth is our name our love belongs to all time and the earth', 'loving each other my arm beneath your neck of sand we shall wait as earth and time change on the island as the leaves fall from the silent climbing vines as autumn departs through the broken window', 'but we are going to wait for our friend our red eyed friend the fire when the wind again shakes the frontiers of the island and does not know the names of everyone winter will seek us my love always it will seek us because we know it because we do not fear it because have with us fire forever spring with us forever and when a leaf falls from the climbing vines you know my love what name is written o on that leaf a names that is yours and mine our love name a single being the arrow that pierced winter the invincible love the fire of the days a leaf that dropped upon my breast a leaf from the tree of life that made a nest and sang that put out roots that gave flowers and fruits', 'and so you see my love how i move around the island around the world safe in the midst of spring crazy with light in the cold walking tranquil in the fire lifting your petal weight in my arms as if i had never walked excpet with you my heart as if i could not walk except with you as if i could not sing except when you sing', 'beloved of the rivers beset by azure water and transparent drops like a tree of veins your spectre of dark goddess biting apples and then awakening naked to be tattoed by the rivers and in the wet heights your head filled the world with new dew', 'water rose to your waist you are made of wellsprings and lakes shone on your forehead', 'from your sources of density you drew water like vital tears and hauled the riverbeds to the sand across the planetary night crossing rough dilated stone breaking down on the way all the salt of geology cutting through forests of compact walls dislodging the muscles of quartz', 'you ve asked me what the lobster is weaving there with his golden feet', 'i reply the ocean knows this', 'you say what is the ascidia waiting for in its transparent bell', 'what is it waiting for', 'i tell you it is waiting for time like you', 'you ask me whom the macrocystis alga hugs in its arms', 'study study it at a certain hour in a certain sea i know', 'you question me about the wicked tusk of the narwhal and i reply by describing how the sea unicorn with the harpoon in it dies', 'you enquire about the kingfisher s feathers which tremble in the pure springs of the southern tides', 'or you ve found in the cards a new question touching on the crystal architecture of the sea anemone and you ll deal that to me now', 'you want to understand the electric nature of the ocean spines', 'the armored stalactite that breaks as it walks', 'the hook of the angler fish the music stretched out in the deep places like a thread in the water', 'i want to tell you the ocean knows this that life in its jewel boxes is endless as the sand impossible to count pure and among the blood colored grapes time has made the petal hard and shiny made the jellyfish full of light and untied its knot letting its musical threads fall from a horn of plenty made of infinite mother of pearl', 'i am nothing but the empty net which has gone on ahead of human eyes dead in those darknesses of fingers accustomed to the triangle longitudes on the timid globe of an orange', 'i walked around as you do investigating the endless star and in my net during the night i woke up naked the only thing caught a fish trapped inside the wind', 'victory', 'it has come late i had not learnt how to arrive like the lily at will the white figure that pierces the motionless eternity of earth pushing at clear faint form till the hour strikes that clay with a white ray or a spur of milk', 'shedding of clothing the thick darkness of soil on whose cliff the fair flower advances till the flag of its whiteness defeats the contemptible deep of night and from the motion of light spills itself in astonished seed', 'drunk as drunk on turpentine from your open kisses your wet body wedged between my wet body and the strake of our boat that is made of flowers feasted we guide it our fingers like tallows adorned with yellow metal over the sky s hot rim the day s last breath in our sails', 'pinned by the sun between solstice and equinox drowsy and tangled together we drifted for months and woke with the bitter taste of land on our lips eyelids all sticky and we longed for lime and the sound of a rope lowering a bucket down its well', 'then we came by night to the fortunate isles and lay like fish under the net of our kisses', 'don t go far off not even for a day because because i don t know how to say it a day is long and i will be waiting for you as in an empty station when the trains are parked off somewhere else asleep', 'don t leave me even for an hour because then the little drops of anguish will all run together the smoke that roams looking for a home will drift into me choking my lost heart', 'oh may your silhouette never dissolve on the beach may your eyelids never flutter into the empty distance', 'don t leave me for a second my dearest because in that moment you ll have gone so far i ll wander mazily over all the earth asking will you come back', 'will you leave me here dying', 'there are lone cemeteries tombs full of soundless bones the heart threading a tunnel a dark dark tunnel like a wreck we die to the very core as if drowning at the heart or collapsing inwards from skin to soul', 'there are corpses clammy slabs for feet there is death in the bones like a pure sound a bark without its dog out of certain bells certain tombs swelling in this humidity like lament or rain', 'i see when alone at times coffins under sail setting out with the pale dead women in their dead braids bakers as white as angels thoughtful girls married to notaries coffins ascending the vertical river of the dead the wine dark river to its source with their sails swollen with the sound of death filled with the silent noise of death', 'death is drawn to sound like a slipper without a foot a suit without its wearer comes to knock with a ring stoneless and fingerless comes to shout without a mouth a tongue without a throat', 'nevertheless its footsteps sound and its clothes echo hushed like a tree', 'i do not know i am ignorant i hardly see but it seems to me that its song has the colour of wet violets violets well used to the earth since the face of death is green and the gaze of death green with the etched moisture of a violet s leaf and its grave colour of exasperated winter', 'but death goes about the earth also riding a broom lapping the ground in search of the dead death is in the broom it is the tongue of death looking for the dead the needle of death looking for the thread', 'death lies in our beds in the lazy mattresses the black blankets lives a full stretch and then suddenly blows blows sound unknown filling out the sheets and there are beds sailing into a harbour where death is waiting dressed as an admiral', 'come with me i said and no one knew where or how my pain throbbed no carnations or barcaroles for me only a wound that love had opened', 'i said it again come with me as if i were dying and no one saw the moon that bled in my mouth or the blood that rose into the silence', 'o love now we can forget the star that has such thorns', 'that is why when i heard your voice repeat come with me it was as if you had let loose the grief the love the fury of a cork trapped wine the geysers flooding from deep in its vault in my mouth i felt the taste of fire again of blood and carnations of rock and scald', 'we have lost even this twilight', 'no one saw us this evening hand in hand while the blue night dropped on the world', 'i have seen from my window the fiesta of sunset in the distant mountain tops', 'sometimes a piece of sun burned like a coin in my hand', 'i remembered you with my soul clenched in that sadness of mine that you know', 'where were you then', 'who else was there', 'saying what', 'why will the whole of love come on me suddenly when i am sad and feel you are far away', 'the book fell that always closed at twilight and my blue sweater rolled like a hurt dog at my feet', 'always always you recede through the evenings toward the twilight erasing statues', 'our father thou art in heaven in water in air in all our silent and broad latitude everything bears your name father in our dwelling your name raises sweetness in sugar cane bolivar tin has a bolivar gleam the bol var bird flies over the bolivar volcano the potato the saltpeter the special shadows the brooks the phosphorous stone veins everything comes from your extinguished life your legacy was rivers plains bell towers your legacy is our daily bread oh father', 'how neatly a cat sleeps sleeps with its paws and its posture sleeps with its wicked claws and with its unfeeling blood sleeps with all the rings a series of burnt circles which have formed the odd geology of its sand colored tail', 'i should like to sleep like a cat with all the fur of time with a tongue rough as flint with the dry sex of fire and after speaking to no one stretch myself over the world over roofs and landscapes with a passionate desire to hunt the rats in my dreams', 'i have seen how the cat asleep would undulate how the night flowed through it like dark water and at times it was going to fall or possibly plunge into the bare deserted snowdrifts', 'sometimes it grew so much in sleep like a tiger s great grandfather and would leap in the darkness over rooftops clouds and volcanoes', 'sleep sleep cat of the night with episcopal ceremony and your stone carved moustache', 'take care of all our dreams control the obscurity of our slumbering prowess with your relentless heart and the great ruff of your tail', 'castro alves from brazil for whom did you sing', 'did you sing for the flower', 'for the water whose beauty whispered words to the stones', 'did you sing to the eyes to the torn profile of the woman you once loved', 'for the spring', 'yes but those petals were not dewed those black waters had no words those eyes were those who saw death still burning the tortures behind love spring was splashed with blood', 'i sang for the slaves aboard the ships as a dark branch of wrath', 'they travelled and bled from the ships leaving us the weight of a stolen blood', 'i sang in those days against the inferno against the sharp languages of greed against the gold drenched in the torment against the hand that rose the whip against the maestros of darkness', 'each rose had one dead man in their roots', 'the light the night the sky were covered in tears the eyes separated from wounded hands and it was my voice the only one to fill the silence', 'i wanted that from the man we could be rescued i believed that the route passed through the man and from there destiny would be made', 'i sang for those who had no voice', 'my voice hit doors that until then were closed so that fighting freedom could be let in', 'castro alves from brazil now that your pure book is reborn to a free land let me poet of our america to crown your head with the laurels of the people', 'your voice joined the eternal and loud voice of the men', 'you sang well', 'you sang how it must be sung', 'arise to birth with me my brother', 'give me your hand out of the depths sown by your sorrows', 'you will not return from these stone fastnesses', 'you will not emerge from subterranean time', 'your rasping voice will not come back nor your pierced eyes rise from their sockets', 'look at me from the depths of the earth tiller of fields weaver reticent shepherd groom of totemic guanacos mason high on your treacherous scaffolding iceman of andean tears jeweler with crushed fingers farmer anxious among his seedlings potter wasted among his clays bring to the cup of this new life your ancient buried sorrows', 'show me your blood and your furrow say to me here i was scourged because a gem was dull or because the earth failed to give up in time its tithe of corn or stone', 'point out to me the rock on which you stumbled the wood they used to crucify your body', 'strike the old flints to kindle ancient lamps light up the whips glued to your wounds throughout the centuries and light the axes gleaming with your blood', 'i come to speak for your dead mouths', 'throughout the earth let dead lips congregate out of the depths spin this long night to me as if i rode at anchor here with you', 'and tell me everything tell chain by chain and link by link and step by step sharpen the knives you kept hidden away thrust them into my breast into my hands like a torrent of sunbursts an amazon of buried jaguars and leave me cry hours days and years blind ages stellar centuries', 'and give me silence give me water hope', 'give me the struggle the iron the volcanoes', 'let bodies cling like magnets to my body', 'come quickly to my veins and to my mouth', 'speak through my speech and through my blood', 'brown and agile child the sun which forms the fruit and ripens the grain and twists the seaweed has made your happy body and your luminous eyes and given your mouth the smile of water', 'a black and anguished sun is entangled in the twigs of your black mane when you hold out your arms', 'you play in the sun as in a tidal river and it leaves two dark pools in your eyes', 'brown and agile child nothing draws me to you everything pulls away from me here in the noon', 'you are the delirious youth of bee the drunkedness of the wave the power of the wheat', 'my somber heart seeks you always i love your happy body your rich soft voice', 'dusky butterfly sweet and sure like the wheatfiled the sun the poppy and the water', 'it was passed from one bird to another the whole gift of the day', 'the day went from flute to flute went dressed in vegetation in flights which opened a tunnel through the wind would pass to where birds were breaking open the dense blue air and there night came in', 'when i returned from so many journeys i stayed suspended and green between sun and geography i saw how wings worked how perfumes are transmitted by feathery telegraph and from above i saw the path the springs and the roof tiles the fishermen at their trades the trousers of the foam i saw it all from my green sky', 'i had no more alphabet than the swallows in their courses the tiny shining water of the small bird on fire which dances out of the pollen', 'and because love battles not only in its burning agricultures but also in the mouth of men and women i will finish off by taking the path away to those who between my chest and your fragrance want to interpose their obscure plant', 'about me nothing worse they will tell you my love than what i told you', 'i lived in the prairies before i got to know you and i did not wait love but i was laying in wait for and i jumped on the rose', 'what more can they tell you', 'i am neither good nor bad but a man and they will then associate the danger of my life which you know and which with your passion you shared', 'and good this danger is danger of love of complete love for all life for all lives and if this love brings us the death and the prisons i am sure that your big eyes as when i kiss them will then close with pride into double pride love with your pride and my pride', 'but to my ears they will come before to wear down the tour of the sweet and hard love which binds us and they will say the one you love is not a woman for you why do you love her', 'i think you could find one more beautiful more serious more deep more other you understand me look how she s light and what a head she has and look at how she dresses and etcetera and etcetera', 'and i in these lines say like this i want you love love like this i love you as you dress and how your hair lifts up and how your mouth smiles light as the water of the spring upon the pure stones like this i love you beloved', 'to bread i do not ask to teach me but only not to lack during every day of life', 'i don t know anything about light from where it comes nor where it goes i only want the light to light up i do not ask to the night explanations i wait for it and it envelops me and so you bread and light and shadow are', 'you came to my life with what you were bringing made of light and bread and shadow i expected you and like this i need you like this i love you and to those who want to hear tomorrow that which i will not tell them let them read it here and let them back off today because it is early for these arguments', 'tomorrow we will only give them a leaf of the tree of our love a leaf which will fall on the earth like if it had been made by our lips like a kiss which falls from our invincible heights to show the fire and the tenderness of a true love', 'i am not jealous of what came before me', 'come with a man on your shoulders come with a hundred men in your hair come with a thousand men between your breasts and your feet come like a river full of drowned men which flows down to the wild sea to the eternal surf to time', 'bring them all to where i am waiting for you we shall always be alone we shall always be you and i alone on earth to start our life', 'i have scarcely left you when you go in me crystalline or trembling or uneasy wounded by me or overwhelmed with love as when your eyes close upon the gift of life that without cease i give you', 'my love we have found each other thirsty and we have drunk up all the water and the blood we found each other hungry and we bit each other as fire bites leaving wounds in us', 'but wait for me keep for me your sweetness', 'i will give you too a rose', 'the memory of you emerges from the night around me', 'the river mingles its stubborn lament with the sea', 'deserted like the wharves at dawn', 'it is the hour of departure oh deserted one', 'cold flower heads are raining over my heart', 'oh pit of debris fierce cave of the shipwrecked', 'in you the wars and the flights accumulated', 'from you the wings of the song birds rose', 'you swallowed everything like distance', 'like the sea like time', 'in you everything sank', 'it was the happy hour of assault and the kiss', 'the hour of the spell that blazed like a lighthouse', 'pilot s dread fury of blind driver turbulent drunkenness of love in you everything sank', 'in the childhood of mist my soul winged and wounded', 'lost discoverer in you everything sank', 'you girdled sorrow you clung to desire sadness stunned you in you everything sank', 'i made the wall of shadow draw back beyond desire and act i walked on', 'oh flesh my own flesh woman whom i loved and lost i summon you in the moist hour i raise my song to you', 'like a jar you housed infinite tenderness', 'and the infinite oblivion shattered you like a jar', 'there was the black solitude of the islands and there woman of love your arms took me in', 'there was thirst and hunger and you were the fruit', 'there were grief and ruins and you were the miracle', 'ah woman i do not know how you could contain me in the earth of your soul in the cross of your arms', 'how terrible and brief my desire was to you', 'how difficult and drunken how tensed and avid', 'cemetery of kisses there is still fire in your tombs still the fruited boughs burn pecked at by birds', 'oh the bitten mouth oh the kissed limbs oh the hungering teeth oh the entwined bodies', 'oh the mad coupling of hope and force in which we merged and despaired', 'and the tenderness light as water and as flour', 'and the word scarcely begun on the lips', 'this was my destiny and in it was my voyage of my longing and in it my longing fell in you everything sank', 'oh pit of debris everything fell into you what sorrow did you not express in what sorrow are you not drowned', 'from billow to billow you still called and sang', 'standing like a sailor in the prow of a vessel', 'you still flowered in songs you still brike the currents', 'oh pit of debris open and bitter well', 'pale blind diver luckless slinger lost discoverer in you everything sank', 'it is the hour of departure the hard cold hour which the night fastens to all the timetables', 'the rustling belt of the sea girdles the shore', 'cold stars heave up black birds migrate', 'deserted like the wharves at dawn', 'only tremulous shadow twists in my hands', 'oh farther than everything', 'oh farther than everything', 'it is the hour of departure', 'oh abandoned one', 'out of lemon flowers loosed on the moonlight love s lashed and insatiable essences sodden with fragrance the lemon tree s yellow emerges the lemons move down from the tree s planetarium delicate merchandise', 'the harbors are big with it bazaars for the light and the barbarous gold', 'we open the halves of a miracle and a clotting of acids brims into the starry divisions creation s original juices irreducible changeless alive so the freshness lives on in a lemon in the sweet smelling house of the rind the proportions arcane and acerb', 'cutting the lemon the knife leaves a little cathedral alcoves unguessed by the eye that open acidulous glass to the light topazes riding the droplets altars aromatic facades', 'so while the hand holds the cut of the lemon half a world on a trencher the gold of the universe wells to your touch a cup yellow with miracles a breast and a nipple perfuming the earth a flashing made fruitage the diminutive fire of a planet', 'my dog has died', 'i buried him in the garden next to a rusted old machine', 'some day i ll join him right there but now he s gone with his shaggy coat his bad manners and his cold nose and i the materialist who never believed in any promised heaven in the sky for any human being i believe in a heaven i ll never enter', 'yes i believe in a heaven for all dogdom where my dog waits for my arrival waving his fan like tail in friendship', 'ai i ll not speak of sadness here on earth of having lost a companion who was never servile', 'his friendship for me like that of a porcupine withholding its authority was the friendship of a star aloof with no more intimacy than was called for with no exaggerations he never climbed all over my clothes filling me full of his hair or his mange he never rubbed up against my knee like other dogs obsessed with sex', 'no my dog used to gaze at me paying me the attention i need the attention required to make a vain person like me understand that being a dog he was wasting time but with those eyes so much purer than mine he d keep on gazing at me with a look that reserved for me alone all his sweet and shaggy life always near me never troubling me and asking nothing', 'ai how many times have i envied his tail as we walked together on the shores of the sea in the lonely winter of isla negra where the wintering birds filled the sky and my hairy dog was jumping about full of the voltage of the sea s movement my wandering dog sniffing away with his golden tail held high face to face with the ocean s spray', 'joyful joyful joyful as only dogs know how to be happy with only the autonomy of their shameless spirit', 'there are no good byes for my dog who has died and we don t now and never did lie to each other', 'so now he s gone and i buried him and that s all there is to it', 'perhaps not to be is to be without your being without your going that cuts noon light like a blue flower without your passing later through fog and stones without the torch you lift in your hand that others may not see as golden that perhaps no one believed blossomed the glowing origin of the rose without in the end your being your coming suddenly inspiringly to know my life blaze of the rose tree wheat of the breeze and it follows that i am because you are it follows from you are that i am and we and because of love you will i will we will come to be', 'march days return with their covert light and huge fish swim through the sky vague earthly vapours progress in secret things slip to silence one by one', 'through fortuity at this crisis of errant skies you reunite the lives of the sea to that of fire grey lurchings of the ship of winter to the form that love carved in the guitar', 'o love o rose soaked by mermaids and spume dancing flame that climbs the invisible stairway to waken the blood in insomnia s labyrinth so that the waves can complete themselves in the sky the sea forget its cargoes and rages and the world fall into darkness s nets', 'in the wave strike over unquiet stones the brightness bursts and bears the rose and the ring of water contracts to a cluster to one drop of azure brine that falls', 'o magnolia radiance breaking in spume magnetic voyager whose death flowers and returns eternal to being and nothingness shattered brine dazzling leap of the ocean', 'merged you and i my love seal the silence while the sea destroys its continual forms collapses its turrets of wildness and whiteness because in the weft of those unseen garments of headlong water and perpetual sand we bear the sole relentless tenderness', 'carnal apple woman filled burning moon dark smell of seaweed crush of mud and light what secret knowledge is clasped between your pillars', 'what primal night does man touch with his senses', 'ay love is a journey through waters and stars through suffocating air sharp tempests of grain love is a war of lightning and two bodies ruined by a single sweetness', 'kiss by kiss i cover your tiny infinity your margins your rivers your diminutive villages and a genital fire transformed by delight slips through the narrow channels of blood to precipitate a nocturnal carnation to be and be nothing but light in the dark', 'little rose roselet at times tiny and naked it seems as though you would fit in one of my hands as though i ll clasp you like this and carry you to my mouth but suddenly my feet touch your feet and my mouth your lips you have grown your shoulders rise like two hills your breasts wander over my breast my arm scarcely manages to encircle the thin new moon line of your waist in love you loosened yourself like sea water i can scarcely measure the sky s most spacious eyes and i lean down to your mouth to kiss the earth', 'the queen i have named you queen', 'there are taller than you taller', 'there are purer than you purer', 'there are lovelier than you lovelier', 'but you are the queen', 'when you go through the streets no one recognizes you', 'no one sees your crystal crown no one looks at the carpet of red gold that you tread as you pass the nonexistent carpet', 'and when you appear all the rivers sound in my body bells shake the sky and a hymn fills the world', 'only you and i only you and i my love listen to me', 'leaning into the afternoons i cast my sad nets towards your oceanic eyes', 'there in the highest blaze my solitude lengthens and flames its arms turning like a drowning man s', 'i send out red signals across your absent eyes that smell like the sea or the beach by a lighthouse', 'you keep only darkness my distant female from your regard sometimes the coast of dread emerges', 'leaning into the afternoons i fling my sad nets to that sea that is thrashed by your oceanic eyes', 'the birds of night peck at the first stars that flash like my soul when i love you', 'the night gallops on its shadowy mare shedding blue tassels over the land', 'leave me a place underground a labyrinth where i can go when i wish to turn without eyes without touch in the void to dumb stone or the finger of shadow', 'i know that you cannot no one no thing can deliver up that place or that path but what can i do with my pitiful passions if they are no use on the surface of everyday life if i cannot look to survive except by dying going beyond entering into the state metallic and slumbering of primeval flame', 'the gay young men and the love sick girls and the abandoned widows suffering in sleepless delirium and the young pregnant wives of thirty hours and the raucous cats that cruise my garden in the shadows like a necklace of pulsating oysters of sex surround my lonely residence like enemies lined up against my soul like conspirators in bedroom clothes who exchange long deep kisses to order', 'the radiant summer leads to lovers in predictable melancholic regiments made of fat and skinny sad and happy pairings under the elegant coconut palms near the ocean and the moon goes an endless movement of trousers and dresses a whisper of silk stockings being caressed and womens breasts that sparkle like eyes', 'the little employee after it all after the weeks boredom and novels read by night in bed has definitively seduced the girl next door and carried her away to a run down movie house where the heroes are studs or princes mad with passion and strokes her legs covered with soft down with his moist and ardent hands that smell of cigarettes', 'the seducers afternoons and married peoples nights come together like the sheets and bury me and the hours after lunch when the young male students and the young girl students and the priests masturbate and the creatures fornicate outright and the bees smell of blood and the flies madly buzz and boy and girl cousins play oddly together and doctors stare in fury at the young patients husband and the morning hours in which the professor as if to pass the time performs his marriage duties and breakfasts and moreover the adulterers who love each other truly on beds as high and deep as ocean liners finally eternally surrounding me is a gigantic forest breathing and tangled with gigantic flowers like mouths with teeth and black roots in the shape of hooves and shoes', 'lost in the forest i broke off a dark twig and lifted its whisper to my thirsty lips maybe it was the voice of the rain crying a cracked bell or a torn heart', 'something from far off it seemed deep and secret to me hidden by the earth a shout muffled by huge autumns by the moist half open darkness of the leaves', 'wakening from the dreaming forest there the hazel sprig sang under my tongue its drifting fragrance climbed up through my conscious mind as if suddenly the roots i had left behind cried out to me the land i had lost with my childhood and i stopped wounded by the wandering scent', 'i do not love you as if you were salt rose or topaz or the arrow of carnations the fire shoots off', 'i love you as certain dark things are to be loved in secret between the shadow and the soul', 'i love you as the plant that never blooms but carries in itself the light of hidden flowers thanks to your love a certain solid fragrance risen from the earth lives darkly in my body', 'i love you without knowing how or when or from where', 'i love you straightforwardly without complexities or pride so i love you because i know no other way than this where i does not exist nor you so close that your hand on my chest is my hand so close that your eyes close as i fall asleep', 'love we re going home now where the vines clamber over the trellis even before you the summer will arrive on its honeysuckle feet in your bedroom', 'our nomadic kisses wandered over all the world armenia dollop of disinterred honey ceylon green dove and the yangtse with its old old patience dividing the day from the night', 'and now dearest we return across the crackling sea like two blind birds to their wall to their nest in a distant spring because love cannot always fly without resting our lives return to the wall to the rocks of the sea our kisses head back home where they belong', 'lovely one just as on the cool stone of the spring the water opens a wide flash of foam so is the smile of your face lovely one', 'lovely one with delicate hands and slender feet like a silver pony walking flower of the world thus i see you lovely one', 'lovely one with a nest of copper entangled on your head a nest the colour of dark honey where my heart burns and rests lovely one', 'lovely one your eyes are too big for your face your eyes are too big for the earth', 'there are countries there are rivers in your eyes my country is your eyes i walk through them they light the world through which i walk lovely one', 'lovely one your breasts are like two loaves made of grainy earth and golden moon lovely one', 'lovely one your waist my arm shaped it like a river when it flowed a thousand years through your sweet body lovely one', 'lovely one there is nothing like your hips perhaps earth has in some hidden place the curve and the fragrance of your body perhaps in some place lovely one', 'lovely one my lovely one your voice your skin your nails lovely one my lovely one your being your light your shadow lovely one all that is mine lovely one all that is mine my dear when you walk or rest when you sing or sleep when you suffer or dream always when you are near or far always you are mine my lovely one always', 'luminous mind bright devil of absolute clusterings of upright noon here we are at last alone without loneliness far from the savage city s delirium', 'just as a pure line describes the dove s curve as the fire honors and nourishes peace so you and i made this heavenly outcome', 'the mind and love live naked in this house', 'furious dreams rivers of bitter certainty decisions harder than the dreams of a hammer flowed into the lovers double cup until those twins were lifted into balance on the scale the mind and love like two wings', 'so this transparency was built', 'one time more my love the net of light extinguishes work wheels flames boredoms and farewells and we surrender the swaying wheat to night the wheat that noon stole from earth and light', 'the moon alone in the midst of its clear page sustains the pillars of heaven s bay the room acquires the slowness of gold and your hands go here and there preparing night', 'o love o night', 'o cupola ringed by a river of impenetrable water in the shadows of heaven that raises and drowns its tempestuous orbs until we are only the one dark space a glass into which fall celestial ashes one drop in the flow of a vast slow river']\n",
            "{'the': 1, 'and': 2, 'of': 3, 'you': 4, 'i': 5, 'in': 6, 'to': 7, 'a': 8, 'your': 9, 'my': 10, 'that': 11, 'me': 12, 'with': 13, 'love': 14, 'like': 15, 'for': 16, 'is': 17, 'on': 18, 'it': 19, 'as': 20, 'from': 21, 'not': 22, 'one': 23, 'we': 24, 'by': 25, 'or': 26, 'are': 27, 'its': 28, 'at': 29, 'her': 30, 'all': 31, 'when': 32, 'night': 33, 'will': 34, 's': 35, 'there': 36, 'was': 37, 'light': 38, 'our': 39, 'earth': 40, 'know': 41, 'this': 42, 'but': 43, 'eyes': 44, 'how': 45, 'have': 46, 'because': 47, 'no': 48, 'were': 49, 'through': 50, 'sea': 51, 'which': 52, 'those': 53, 'if': 54, 'without': 55, 'blood': 56, 'lovely': 57, 'they': 58, 'mouth': 59, 'so': 60, 'out': 61, 'his': 62, 'come': 63, 'water': 64, 'fire': 65, 'life': 66, 'what': 67, 'into': 68, 'where': 69, 'only': 70, 'who': 71, 'she': 72, 'everything': 73, 'be': 74, 'their': 75, 'death': 76, 't': 77, 'do': 78, 'dark': 79, 'oh': 80, 'time': 81, 'did': 82, 'made': 83, 'heart': 84, 'up': 85, 'them': 86, 'over': 87, 'rose': 88, 'voice': 89, 'us': 90, 'had': 91, 'want': 92, 'body': 93, 'each': 94, 'here': 95, 'has': 96, 'world': 97, 'lost': 98, 'day': 99, 'hour': 100, 'off': 101, 'flower': 102, 'other': 103, 'down': 104, 'soul': 105, 'these': 106, 'stone': 107, 'river': 108, 'than': 109, 'sky': 110, 'always': 111, 'now': 112, 'roots': 113, 'arms': 114, 'am': 115, 'hands': 116, 'still': 117, 'kisses': 118, 'name': 119, 'together': 120, 'dead': 121, 'give': 122, 'hand': 123, 'never': 124, 'look': 125, 'moon': 126, 'little': 127, 'wind': 128, 'lips': 129, 'black': 130, 'far': 131, 'tell': 132, 'let': 133, 'can': 134, 'then': 135, 'leaf': 136, 'spring': 137, 'old': 138, 'hours': 139, 'deep': 140, 'loved': 141, 'don': 142, 'fall': 143, 'feet': 144, 'dog': 145, 'suddenly': 146, 'nothing': 147, 'mine': 148, 'go': 149, 'waiting': 150, 'cold': 151, 'see': 152, 'silent': 153, 'sometimes': 154, 'alone': 155, 'sing': 156, 'young': 157, 'ocean': 158, 'man': 159, 'after': 160, 'he': 161, 'rivers': 162, 'return': 163, 'certain': 164, 'between': 165, 'o': 166, 'being': 167, 'sang': 168, 'more': 169, 'wait': 170, 'long': 171, 'stones': 172, 'days': 173, 'stars': 174, 'away': 175, 'leaves': 176, 'under': 177, 'while': 178, 'sweet': 179, 'flowers': 180, 'names': 181, 'lives': 182, 'white': 183, 'speak': 184, 'could': 185, 'men': 186, 'winter': 187, 'kiss': 188, 'an': 189, 'tree': 190, 'll': 191, 'sun': 192, 'sound': 193, 'against': 194, 'birds': 195, 'shadow': 196, 'touch': 197, 'near': 198, 'well': 199, 'shall': 200, 'leave': 201, 'face': 202, 'around': 203, 'big': 204, 'happy': 205, 'breasts': 206, 'smell': 207, 'used': 208, 'gold': 209, 'going': 210, 'came': 211, 'tears': 212, 'buried': 213, 'breast': 214, 'silence': 215, 'naked': 216, 'lines': 217, 'blue': 218, 'too': 219, 'infinite': 220, 'perhaps': 221, 'head': 222, 'sleep': 223, 'back': 224, 'island': 225, 'secret': 226, 'about': 227, 'pure': 228, 'full': 229, 'darkness': 230, 'open': 231, 'saw': 232, 'heaven': 233, 'woman': 234, 'two': 235, 'sank': 236, 'loving': 237, 'land': 238, 'beloved': 239, 'bread': 240, 'does': 241, 'high': 242, 'even': 243, 'wet': 244, 'comes': 245, 'sad': 246, 'beds': 247, 'empty': 248, 'wounded': 249, 'themselves': 250, 'across': 251, 'times': 252, 'looking': 253, 'tenderness': 254, 'new': 255, 'show': 256, 'blind': 257, 'why': 258, 'write': 259, 'golden': 260, 'clothes': 261, 'filled': 262, 'song': 263, 'sand': 264, 'say': 265, 'green': 266, 'tail': 267, 'would': 268, 'fragrance': 269, 'close': 270, 'pride': 271, 'lemon': 272, 'red': 273, 'seek': 274, 'feel': 275, 'sweetness': 276, 'except': 277, 'hair': 278, 'eat': 279, 'skin': 280, 'twilight': 281, 'cross': 282, 'among': 283, 'things': 284, 'towards': 285, 'home': 286, 'forest': 287, 'whom': 288, 'found': 289, 'people': 290, 'hope': 291, 'breaking': 292, 'burning': 293, 'ancient': 294, 'good': 295, 'sorrow': 296, 'won': 297, 'fingers': 298, 'cup': 299, 'fell': 300, 'chain': 301, 'link': 302, 'step': 303, 'yellow': 304, 'years': 305, 'bodies': 306, 'veins': 307, 'rain': 308, 'keep': 309, 'though': 310, 'last': 311, 'flowed': 312, 'colour': 313, 'distant': 314, 'again': 315, 'vines': 316, 'passed': 317, 'chest': 318, 'until': 319, 'house': 320, 'wall': 321, 'pass': 322, 'eternal': 323, 'nest': 324, 'walked': 325, 'walk': 326, 'fish': 327, 'net': 328, 'gone': 329, 'tongue': 330, 'cat': 331, 'sleeps': 332, 'desire': 333, 'dreams': 334, 'deserted': 335, 'nor': 336, 'hidden': 337, 'noon': 338, 'wheat': 339, 'before': 340, 'scarcely': 341, 'place': 342, 'mind': 343, 'thing': 344, 'crystal': 345, 'branch': 346, 'slow': 347, 'window': 348, 'sail': 349, 'toward': 350, 'yours': 351, 'stop': 352, 'forget': 353, 'forgotten': 354, 'think': 355, 'mad': 356, 'another': 357, 'ah': 358, 'live': 359, 'leaving': 360, 'measure': 361, 'true': 362, 'dawn': 363, 'hunger': 364, 'pale': 365, 'whole': 366, 'hungry': 367, 'itself': 368, 'waters': 369, 'early': 370, 'fat': 371, 'garden': 372, 'surround': 373, 'summer': 374, 'lovers': 375, 'palms': 376, 'women': 377, 'read': 378, 'bed': 379, 'covered': 380, 'husband': 381, 'sheets': 382, 'students': 383, 'flies': 384, 'cousins': 385, 'play': 386, 'ships': 387, 'gigantic': 388, 'teeth': 389, 'god': 390, 'called': 391, 'someone': 392, 'been': 393, 'worn': 394, 'left': 395, 'human': 396, 'petals': 397, 'beach': 398, 'began': 399, 'study': 400, 'honey': 401, 'thirsty': 402, 'lifted': 403, 'first': 404, 'said': 405, 'rise': 406, 'born': 407, 'clay': 408, 'bring': 409, 'sorrows': 410, 'grain': 411, 'make': 412, 'lamps': 413, 'centuries': 414, 'wounds': 415, 'shining': 416, 'put': 417, 'volcanoes': 418, 'words': 419, 'saddest': 420, 'tonight': 421, 'distance': 422, 'nights': 423, 'held': 424, 'huge': 425, 'looks': 426, 'same': 427, 'much': 428, 'bite': 429, 'delicate': 430, 'knew': 431, 'way': 432, 'flesh': 433, 'drowned': 434, 'knowing': 435, 'went': 436, 'swam': 437, 'crown': 438, 'walls': 439, 'climbing': 440, 'walking': 441, 'pierced': 442, 'joined': 443, 'plant': 444, 'rock': 445, 'half': 446, 'movement': 447, 'knows': 448, 'just': 449, 'arm': 450, 'falls': 451, 'upon': 452, 'waist': 453, 'bell': 454, 'ask': 455, 'understand': 456, 'endless': 457, 'hard': 458, 'star': 459, 'whose': 460, 'drunk': 461, 'bitter': 462, 'asleep': 463, 'may': 464, 'dying': 465, 'tombs': 466, 'tunnel': 467, 'goes': 468, 'carnations': 469, 'fury': 470, 'sadness': 471, 'father': 472, 'air': 473, 'bolivar': 474, 'bird': 475, 'shadows': 476, 'sex': 477, 'believed': 478, 'depths': 479, 'wings': 480, 'path': 481, 'tiny': 482, 'danger': 483, 'emerges': 484, 'departure': 485, 'pit': 486, 'debris': 487, 'moist': 488, 'him': 489, 'some': 490, 'friendship': 491, 'purer': 492, 'joyful': 493, 'nets': 494, 'queen': 495, 'afternoons': 496, 'cannot': 497, 'girl': 498, 'autumn': 499, 'carries': 500, 'isles': 501, 'shore': 502, 'remember': 503, 'lift': 504, 'climbs': 505, 'own': 506, 'extinguished': 507, 'maybe': 508, 'ray': 509, 'dies': 510, 'die': 511, 'streets': 512, 'hunt': 513, 'savage': 514, 'fingernails': 515, 'nose': 516, 'sniffing': 517, 'hot': 518, 'pines': 519, 'phosphorous': 520, 'dancing': 521, 'silver': 522, 'slips': 523, 'ship': 524, 'sounds': 525, 'vain': 526, 'arrival': 527, 'myself': 528, 'grows': 529, 'turns': 530, 'dream': 531, 'widows': 532, 'delirious': 533, 'insomnia': 534, 'wives': 535, 'thirty': 536, 'pregnant': 537, 'oysters': 538, 'enemies': 539, 'conspirators': 540, 'exchange': 541, 'radiant': 542, 'brings': 543, 'regiments': 544, 'thin': 545, 'elegant': 546, 'coconut': 547, 'continual': 548, 'silk': 549, 'stockings': 550, 'novels': 551, 'heroes': 552, 'passionate': 553, 'princes': 554, 'legs': 555, 'ardent': 556, 'cigarettes': 557, 'bury': 558, 'lunch': 559, 'priests': 560, 'bees': 561, 'buzz': 562, 'doctors': 563, 'morning': 564, 'professor': 565, 'adulterers': 566, 'truly': 567, 'eternally': 568, 'breathing': 569, 'shoes': 570, 'shores': 571, 'fear': 572, 'something': 573, 'fewer': 574, 'killing': 575, 'smoke': 576, 'ashes': 577, 'stopped': 578, 'hymn': 579, 'brother': 580, 'rocks': 581, 'subterranean': 582, 'depth': 583, 'weaver': 584, 'shepherd': 585, 'wild': 586, 'spirit': 587, 'jeweler': 588, 'broken': 589, 'farmer': 590, 'trembling': 591, 'potter': 592, 'furrow': 593, 'jewel': 594, 'didn': 595, 'wood': 596, 'flints': 597, 'whips': 598, 'axes': 599, 'pinned': 600, 'sharpen': 601, 'knives': 602, 'jaguars': 603, 'weep': 604, 'ages': 605, 'struggle': 606, 'iron': 607, 'magnets': 608, 'draw': 609, 'dress': 610, 'anything': 611, 'standing': 612, 'fractured': 613, 'sings': 614, 'kissed': 615, 'hear': 616, 'vast': 617, 'dew': 618, 'content': 619, 'reach': 620, 'find': 621, 'breeze': 622, 'bright': 623, 'brief': 624, 'since': 625, 'pain': 626, 'suffer': 627, 'celestial': 628, 'most': 629, 'should': 630, 'sleeping': 631, 'gazing': 632, 'journeys': 633, 'beautiful': 634, 'lived': 635, 'small': 636, 'inside': 637, 'gleaming': 638, 'burnt': 639, 'rolled': 640, 'speech': 641, 'topaz': 642, 'door': 643, 'entering': 644, 'raised': 645, 'letting': 646, 'threads': 647, 'spoke': 648, 'thus': 649, 'invisible': 650, 'fruits': 651, 'darkly': 652, 'grottoes': 653, 'crevices': 654, 'seed': 655, 'opens': 656, 'recognizes': 657, 'mud': 658, 'sown': 659, 'grown': 660, 'flowered': 661, 'change': 662, 'today': 663, 'friend': 664, 'forever': 665, 'single': 666, 'arrow': 667, 'invincible': 668, 'dropped': 669, 'move': 670, 'midst': 671, 'petal': 672, 'weight': 673, 'azure': 674, 'transparent': 675, 'drops': 676, 'heights': 677, 'rough': 678, 'salt': 679, 'geology': 680, 'cutting': 681, 've': 682, 'reply': 683, 'question': 684, 'wicked': 685, 'springs': 686, 'thread': 687, 'colored': 688, 'during': 689, 'woke': 690, 'trapped': 691, 'arrive': 692, 'clear': 693, 'form': 694, 'till': 695, 'shedding': 696, 'whiteness': 697, 'sails': 698, 'tangled': 699, 'taste': 700, 'eyelids': 701, 'else': 702, 'run': 703, 'dearest': 704, 'wander': 705, 'asking': 706, 'bones': 707, 'drowning': 708, 'bells': 709, 'lament': 710, 'coffins': 711, 'girls': 712, 'married': 713, 'wine': 714, 'ring': 715, 'shout': 716, 'seems': 717, 'violets': 718, 'gaze': 719, 'also': 720, 'riding': 721, 'broom': 722, 'stretch': 723, 'blows': 724, 'filling': 725, 'dressed': 726, 'opened': 727, 'bled': 728, 'grief': 729, 'seen': 730, 'book': 731, 'closed': 732, 'bears': 733, 'raises': 734, 'legacy': 735, 'great': 736, 'leap': 737, 'carved': 738, 'slumbering': 739, 'relentless': 740, 'castro': 741, 'alves': 742, 'brazil': 743, 'torn': 744, 'yes': 745, 'behind': 746, 'sharp': 747, 'destiny': 748, 'strike': 749, 'throughout': 750, 'mouths': 751, 'brown': 752, 'agile': 753, 'child': 754, 'forms': 755, 'fruit': 756, 'twists': 757, 'seaweed': 758, 'luminous': 759, 'smile': 760, 'entangled': 761, 'wave': 762, 'soft': 763, 'sure': 764, 'gift': 765, 'flute': 766, 'flights': 767, 'many': 768, 'trousers': 769, 'foam': 770, 'bad': 771, 'passion': 772, 'complete': 773, 'double': 774, 'dresses': 775, 'etcetera': 776, 'need': 777, 'tomorrow': 778, 'shoulders': 779, 'thousand': 780, 'wharves': 781, 'lighthouse': 782, 'dread': 783, 'childhood': 784, 'discoverer': 785, 'beyond': 786, 'jar': 787, 'shattered': 788, 'solitude': 789, 'miracle': 790, 'merged': 791, 'longing': 792, 'billow': 793, 'farther': 794, 'abandoned': 795, 'glass': 796, 'diminutive': 797, 'died': 798, 'next': 799, 'shaggy': 800, 'any': 801, 'believe': 802, 'ai': 803, 'climbed': 804, 'dogs': 805, 'attention': 806, 'lonely': 807, 'wandering': 808, 'blaze': 809, 'follows': 810, 'spume': 811, 'flame': 812, 'labyrinth': 813, 'drop': 814, 'brine': 815, 'pillars': 816, 'line': 817, 'taller': 818, 'lovelier': 819, 'carpet': 820, 'leaning': 821, 'oceanic': 822, 'flames': 823, 'flash': 824, 'delirium': 825, 'bedroom': 826, 'whisper': 827, 'dove': 828, 'curve': 829, 'impalpable': 830, 'ash': 831, 'wrinkled': 832, 'log': 833, 'exists': 834, 'aromas': 835, 'metals': 836, 'boats': 837, 'already': 838, 'banners': 839, 'passes': 840, 'decide': 841, 'set': 842, 'destined': 843, 'implacable': 844, 'repeated': 845, 'feeds': 846, 'moves': 847, 'hate': 848, 'deeply': 849, 'hating': 850, 'bend': 851, 'changing': 852, 'blindly': 853, 'january': 854, 'consume': 855, 'cruel': 856, 'stealing': 857, 'key': 858, 'calm': 859, 'part': 860, 'story': 861, 'crave': 862, 'starving': 863, 'prowl': 864, 'nourish': 865, 'disrupts': 866, 'liquid': 867, 'steps': 868, 'sleek': 869, 'laugh': 870, 'color': 871, 'harvest': 872, 'almond': 873, 'sunbeam': 874, 'flaring': 875, 'sovereign': 876, 'arrogant': 877, 'fleeting': 878, 'shade': 879, 'lashes': 880, 'pace': 881, 'hunting': 882, 'puma': 883, 'barrens': 884, 'quitratue': 885, 'disentangles': 886, 'glows': 887, 'vagrant': 888, 'kind': 889, 'chasing': 890, 'snow': 891, 'unfurls': 892, 'figures': 893, 'gull': 894, 'west': 895, 'get': 896, 'resounds': 897, 'port': 898, 'horizon': 899, 'hides': 900, 'heavy': 901, 'vessels': 902, 'anchors': 903, 'piers': 904, 'sadden': 905, 'afternoon': 906, 'moors': 907, 'tired': 908, 'purpose': 909, 'loathing': 910, 'wrestles': 911, 'twilights': 912, 'starts': 913, 'clockwork': 914, 'biggest': 915, 'wire': 916, 'maricones': 917, 'horny': 918, 'muchachas': 919, 'hoarse': 920, 'tomcats': 921, 'collar': 922, 'palpitating': 923, 'sexual': 924, 'solitary': 925, 'pajamas': 926, 'passwords': 927, 'melancholy': 928, 'couples': 929, 'pants': 930, 'panties': 931, 'hum': 932, 'fondling': 933, 'glisten': 934, 'salary': 935, 'week': 936, 'tedium': 937, 'decisively': 938, 'fucked': 939, 'neighbor': 940, 'takes': 941, 'miserable': 942, 'movies': 943, 'horses': 944, 'caresses': 945, 'sweaty': 946, 'hunter': 947, 'masturbating': 948, 'animals': 949, 'mount': 950, 'openly': 951, 'cholerically': 952, 'strange': 953, 'games': 954, 'glower': 955, 'patient': 956, 'thought': 957, 'pays': 958, 'conjugal': 959, 'debt': 960, 'eats': 961, 'breakfast': 962, 'top': 963, 'tall': 964, 'twisted': 965, 'crushes': 966, 'especially': 967, 'representative': 968, 'jesus': 969, 'christ': 970, 'according': 971, 'holy': 972, 'books': 973, 'shells': 974, 'mollusk': 975, 'however': 976, 'sacred': 977, 'exhausted': 978, 'scattered': 979, 'oceans': 980, 'remains': 981, 'sip': 982, 'rainbow': 983, 'footprint': 984, 'shimmers': 985, 'best': 986, 'worst': 987, 'clean': 988, 'dirty': 989, 'bloody': 990, 'murderers': 991, 'victims': 992, 'flaming': 993, 'napalm': 994, 'nixon': 995, 'cain': 996, 'blessed': 997, 'condemned': 998, 'divine': 999, 'footprints': 1000, 'colors': 1001, 'future': 1002, 'sign': 1003, 'uranium': 1004, 'looked': 1005, 'anxiety': 1006, 'possibilities': 1007, 'organizing': 1008, 'fabric': 1009, 'further': 1010, 'limits': 1011, 'stopping': 1012, 'trash': 1013, 'weren': 1014, 'able': 1015, 'often': 1016, 'reminded': 1017, 'ancestors': 1018, 'prayers': 1019, 'discovered': 1020, 'united': 1021, 'misfortune': 1022, 'seeing': 1023, 'fragments': 1024, 'sheltered': 1025, 'smooth': 1026, 'substances': 1027, 'evil': 1028, 'zone': 1029, 'seeded': 1030, 'hardened': 1031, 'gouged': 1032, 'laborer': 1033, 'tamer': 1034, 'llamas': 1035, 'images': 1036, 'construction': 1037, 'worker': 1038, 'daring': 1039, 'scaffold': 1040, 'waterer': 1041, 'andes': 1042, 'sow': 1043, 'poured': 1044, 'punished': 1045, 'shine': 1046, 'yield': 1047, 'crucified': 1048, 'spark': 1049, 'stuck': 1050, 'hid': 1051, 'lighting': 1052, 'cycles': 1053, 'stick': 1054, 'trees': 1055, 'conceal': 1056, 'splendor': 1057, 'hears': 1058, 'regrets': 1059, 'thieving': 1060, 'automobile': 1061, 'sadder': 1062, 'train': 1063, 'example': 1064, 'shiver': 1065, 'greatly': 1066, 'vaster': 1067, 'grass': 1068, 'matter': 1069, 'couldn': 1070, 'sight': 1071, 'whitens': 1072, 'branches': 1073, 'tried': 1074, 'forgetting': 1075, 'lasts': 1076, 'fleas': 1077, 'interest': 1078, 'perfect': 1079, 'sanskrit': 1080, 'machines': 1081, 'admit': 1082, 'appeal': 1083, 'jump': 1084, 'dancers': 1085, 'sphere': 1086, 'acrobats': 1087, 'softest': 1088, 'profound': 1089, 'circus': 1090, 'gallop': 1091, 'divulge': 1092, 'emotions': 1093, 'amuse': 1094, 'introduce': 1095, 'closely': 1096, 'rely': 1097, 'matilde': 1098, 'feverish': 1099, 'twisting': 1100, 'spine': 1101, 'bleeding': 1102, 'awaken': 1103, 'hospital': 1104, 'foreign': 1105, 'windows': 1106, 'uniforms': 1107, 'walkers': 1108, 'clumsiness': 1109, 'renewal': 1110, 'pillow': 1111, 'floating': 1112, 'bluer': 1113, 'enormous': 1114, 'within': 1115, 'totally': 1116, 'drinking': 1117, 'spit': 1118, 'newly': 1119, 'mermaid': 1120, 'insults': 1121, 'obscenities': 1122, 'blackened': 1123, 'corks': 1124, 'cigarette': 1125, 'stubs': 1126, 'laughing': 1127, 'tavern': 1128, 'floor': 1129, 'twin': 1130, 'moved': 1131, 'coral': 1132, 'cleaned': 1133, 'emptiness': 1134, 'reached': 1135, 'murmured': 1136, 'trembled': 1137, 'flourished': 1138, 'inadvertent': 1139, 'presence': 1140, 'occupied': 1141, 'awaited': 1142, 'lit': 1143, 'moss': 1144, 'echoed': 1145, 'syllable': 1146, 'spole': 1147, 'blazing': 1148, 'steep': 1149, 'tide': 1150, 'devouring': 1151, 'outside': 1152, 'grow': 1153, 'therefore': 1154, 'secrets': 1155, 'rocky': 1156, 'height': 1157, 'purity': 1158, 'scarlet': 1159, 'dawns': 1160, 'joins': 1161, 'decipher': 1162, 'repeats': 1163, 'seeking': 1164, 'offers': 1165, 'belongs': 1166, 'beneath': 1167, 'neck': 1168, 'departs': 1169, 'eyed': 1170, 'shakes': 1171, 'frontiers': 1172, 'everyone': 1173, 'written': 1174, 'gave': 1175, 'safe': 1176, 'crazy': 1177, 'tranquil': 1178, 'lifting': 1179, 'excpet': 1180, 'beset': 1181, 'spectre': 1182, 'goddess': 1183, 'biting': 1184, 'apples': 1185, 'awakening': 1186, 'tattoed': 1187, 'wellsprings': 1188, 'lakes': 1189, 'shone': 1190, 'forehead': 1191, 'sources': 1192, 'density': 1193, 'drew': 1194, 'vital': 1195, 'hauled': 1196, 'riverbeds': 1197, 'planetary': 1198, 'crossing': 1199, 'dilated': 1200, 'forests': 1201, 'compact': 1202, 'dislodging': 1203, 'muscles': 1204, 'quartz': 1205, 'asked': 1206, 'lobster': 1207, 'weaving': 1208, 'ascidia': 1209, 'macrocystis': 1210, 'alga': 1211, 'hugs': 1212, 'tusk': 1213, 'narwhal': 1214, 'describing': 1215, 'unicorn': 1216, 'harpoon': 1217, 'enquire': 1218, 'kingfisher': 1219, 'feathers': 1220, 'tremble': 1221, 'southern': 1222, 'tides': 1223, 'cards': 1224, 'touching': 1225, 'architecture': 1226, 'anemone': 1227, 'deal': 1228, 'electric': 1229, 'nature': 1230, 'spines': 1231, 'armored': 1232, 'stalactite': 1233, 'breaks': 1234, 'walks': 1235, 'hook': 1236, 'angler': 1237, 'music': 1238, 'stretched': 1239, 'places': 1240, 'boxes': 1241, 'impossible': 1242, 'count': 1243, 'grapes': 1244, 'shiny': 1245, 'jellyfish': 1246, 'untied': 1247, 'knot': 1248, 'musical': 1249, 'horn': 1250, 'plenty': 1251, 'mother': 1252, 'pearl': 1253, 'ahead': 1254, 'darknesses': 1255, 'accustomed': 1256, 'triangle': 1257, 'longitudes': 1258, 'timid': 1259, 'globe': 1260, 'orange': 1261, 'investigating': 1262, 'caught': 1263, 'victory': 1264, 'late': 1265, 'learnt': 1266, 'lily': 1267, 'figure': 1268, 'pierces': 1269, 'motionless': 1270, 'eternity': 1271, 'pushing': 1272, 'faint': 1273, 'strikes': 1274, 'spur': 1275, 'milk': 1276, 'clothing': 1277, 'thick': 1278, 'soil': 1279, 'cliff': 1280, 'fair': 1281, 'advances': 1282, 'flag': 1283, 'defeats': 1284, 'contemptible': 1285, 'motion': 1286, 'spills': 1287, 'astonished': 1288, 'turpentine': 1289, 'wedged': 1290, 'strake': 1291, 'boat': 1292, 'feasted': 1293, 'guide': 1294, 'tallows': 1295, 'adorned': 1296, 'metal': 1297, 'rim': 1298, 'breath': 1299, 'solstice': 1300, 'equinox': 1301, 'drowsy': 1302, 'drifted': 1303, 'months': 1304, 'sticky': 1305, 'longed': 1306, 'lime': 1307, 'rope': 1308, 'lowering': 1309, 'bucket': 1310, 'fortunate': 1311, 'lay': 1312, 'station': 1313, 'trains': 1314, 'parked': 1315, 'somewhere': 1316, 'anguish': 1317, 'roams': 1318, 'drift': 1319, 'choking': 1320, 'silhouette': 1321, 'dissolve': 1322, 'flutter': 1323, 'second': 1324, 'moment': 1325, 'mazily': 1326, 'lone': 1327, 'cemeteries': 1328, 'soundless': 1329, 'threading': 1330, 'wreck': 1331, 'very': 1332, 'core': 1333, 'collapsing': 1334, 'inwards': 1335, 'corpses': 1336, 'clammy': 1337, 'slabs': 1338, 'bark': 1339, 'swelling': 1340, 'humidity': 1341, 'setting': 1342, 'braids': 1343, 'bakers': 1344, 'angels': 1345, 'thoughtful': 1346, 'notaries': 1347, 'ascending': 1348, 'vertical': 1349, 'source': 1350, 'swollen': 1351, 'noise': 1352, 'drawn': 1353, 'slipper': 1354, 'foot': 1355, 'suit': 1356, 'wearer': 1357, 'knock': 1358, 'stoneless': 1359, 'fingerless': 1360, 'throat': 1361, 'nevertheless': 1362, 'footsteps': 1363, 'echo': 1364, 'hushed': 1365, 'ignorant': 1366, 'hardly': 1367, 'etched': 1368, 'moisture': 1369, 'violet': 1370, 'grave': 1371, 'exasperated': 1372, 'lapping': 1373, 'ground': 1374, 'search': 1375, 'needle': 1376, 'lies': 1377, 'lazy': 1378, 'mattresses': 1379, 'blankets': 1380, 'unknown': 1381, 'sailing': 1382, 'harbour': 1383, 'admiral': 1384, 'throbbed': 1385, 'barcaroles': 1386, 'wound': 1387, 'such': 1388, 'thorns': 1389, 'heard': 1390, 'repeat': 1391, 'loose': 1392, 'cork': 1393, 'geysers': 1394, 'flooding': 1395, 'vault': 1396, 'felt': 1397, 'scald': 1398, 'evening': 1399, 'fiesta': 1400, 'sunset': 1401, 'mountain': 1402, 'tops': 1403, 'piece': 1404, 'burned': 1405, 'coin': 1406, 'remembered': 1407, 'clenched': 1408, 'saying': 1409, 'sweater': 1410, 'hurt': 1411, 'recede': 1412, 'evenings': 1413, 'erasing': 1414, 'statues': 1415, 'thou': 1416, 'art': 1417, 'broad': 1418, 'latitude': 1419, 'dwelling': 1420, 'sugar': 1421, 'cane': 1422, 'tin': 1423, 'gleam': 1424, 'bol': 1425, 'var': 1426, 'volcano': 1427, 'potato': 1428, 'saltpeter': 1429, 'special': 1430, 'brooks': 1431, 'plains': 1432, 'towers': 1433, 'daily': 1434, 'neatly': 1435, 'paws': 1436, 'posture': 1437, 'claws': 1438, 'unfeeling': 1439, 'rings': 1440, 'series': 1441, 'circles': 1442, 'formed': 1443, 'odd': 1444, 'fur': 1445, 'flint': 1446, 'dry': 1447, 'speaking': 1448, 'roofs': 1449, 'landscapes': 1450, 'rats': 1451, 'undulate': 1452, 'possibly': 1453, 'plunge': 1454, 'bare': 1455, 'snowdrifts': 1456, 'grew': 1457, 'tiger': 1458, 'grandfather': 1459, 'rooftops': 1460, 'clouds': 1461, 'episcopal': 1462, 'ceremony': 1463, 'moustache': 1464, 'take': 1465, 'care': 1466, 'control': 1467, 'obscurity': 1468, 'prowess': 1469, 'ruff': 1470, 'beauty': 1471, 'whispered': 1472, 'profile': 1473, 'once': 1474, 'dewed': 1475, 'tortures': 1476, 'splashed': 1477, 'slaves': 1478, 'aboard': 1479, 'wrath': 1480, 'travelled': 1481, 'stolen': 1482, 'inferno': 1483, 'languages': 1484, 'greed': 1485, 'drenched': 1486, 'torment': 1487, 'whip': 1488, 'maestros': 1489, 'separated': 1490, 'fill': 1491, 'wanted': 1492, 'rescued': 1493, 'route': 1494, 'hit': 1495, 'doors': 1496, 'fighting': 1497, 'freedom': 1498, 'reborn': 1499, 'free': 1500, 'poet': 1501, 'america': 1502, 'laurels': 1503, 'loud': 1504, 'must': 1505, 'sung': 1506, 'arise': 1507, 'birth': 1508, 'fastnesses': 1509, 'emerge': 1510, 'rasping': 1511, 'sockets': 1512, 'tiller': 1513, 'fields': 1514, 'reticent': 1515, 'groom': 1516, 'totemic': 1517, 'guanacos': 1518, 'mason': 1519, 'treacherous': 1520, 'scaffolding': 1521, 'iceman': 1522, 'andean': 1523, 'crushed': 1524, 'anxious': 1525, 'seedlings': 1526, 'wasted': 1527, 'clays': 1528, 'scourged': 1529, 'gem': 1530, 'dull': 1531, 'failed': 1532, 'tithe': 1533, 'corn': 1534, 'point': 1535, 'stumbled': 1536, 'crucify': 1537, 'kindle': 1538, 'glued': 1539, 'congregate': 1540, 'spin': 1541, 'rode': 1542, 'anchor': 1543, 'kept': 1544, 'thrust': 1545, 'torrent': 1546, 'sunbursts': 1547, 'amazon': 1548, 'cry': 1549, 'stellar': 1550, 'cling': 1551, 'quickly': 1552, 'ripens': 1553, 'given': 1554, 'anguished': 1555, 'twigs': 1556, 'mane': 1557, 'hold': 1558, 'tidal': 1559, 'pools': 1560, 'draws': 1561, 'pulls': 1562, 'youth': 1563, 'bee': 1564, 'drunkedness': 1565, 'power': 1566, 'somber': 1567, 'seeks': 1568, 'rich': 1569, 'dusky': 1570, 'butterfly': 1571, 'wheatfiled': 1572, 'poppy': 1573, 'vegetation': 1574, 'dense': 1575, 'returned': 1576, 'stayed': 1577, 'suspended': 1578, 'geography': 1579, 'worked': 1580, 'perfumes': 1581, 'transmitted': 1582, 'feathery': 1583, 'telegraph': 1584, 'above': 1585, 'roof': 1586, 'tiles': 1587, 'fishermen': 1588, 'trades': 1589, 'alphabet': 1590, 'swallows': 1591, 'courses': 1592, 'dances': 1593, 'pollen': 1594, 'battles': 1595, 'agricultures': 1596, 'finish': 1597, 'taking': 1598, 'interpose': 1599, 'obscure': 1600, 'worse': 1601, 'told': 1602, 'prairies': 1603, 'got': 1604, 'laying': 1605, 'jumped': 1606, 'neither': 1607, 'associate': 1608, 'shared': 1609, 'prisons': 1610, 'ears': 1611, 'wear': 1612, 'tour': 1613, 'binds': 1614, 'serious': 1615, 'lifts': 1616, 'smiles': 1617, 'teach': 1618, 'lack': 1619, 'every': 1620, 'explanations': 1621, 'envelops': 1622, 'bringing': 1623, 'expected': 1624, 'arguments': 1625, 'jealous': 1626, 'hundred': 1627, 'flows': 1628, 'surf': 1629, 'start': 1630, 'crystalline': 1631, 'uneasy': 1632, 'overwhelmed': 1633, 'cease': 1634, 'bit': 1635, 'bites': 1636, 'memory': 1637, 'mingles': 1638, 'stubborn': 1639, 'heads': 1640, 'raining': 1641, 'fierce': 1642, 'cave': 1643, 'shipwrecked': 1644, 'wars': 1645, 'accumulated': 1646, 'swallowed': 1647, 'assault': 1648, 'spell': 1649, 'blazed': 1650, 'pilot': 1651, 'driver': 1652, 'turbulent': 1653, 'drunkenness': 1654, 'mist': 1655, 'winged': 1656, 'girdled': 1657, 'clung': 1658, 'stunned': 1659, 'act': 1660, 'summon': 1661, 'raise': 1662, 'housed': 1663, 'oblivion': 1664, 'islands': 1665, 'took': 1666, 'thirst': 1667, 'ruins': 1668, 'contain': 1669, 'terrible': 1670, 'difficult': 1671, 'drunken': 1672, 'tensed': 1673, 'avid': 1674, 'cemetery': 1675, 'fruited': 1676, 'boughs': 1677, 'burn': 1678, 'pecked': 1679, 'bitten': 1680, 'limbs': 1681, 'hungering': 1682, 'entwined': 1683, 'coupling': 1684, 'force': 1685, 'despaired': 1686, 'flour': 1687, 'word': 1688, 'begun': 1689, 'voyage': 1690, 'express': 1691, 'sailor': 1692, 'prow': 1693, 'vessel': 1694, 'songs': 1695, 'brike': 1696, 'currents': 1697, 'diver': 1698, 'luckless': 1699, 'slinger': 1700, 'fastens': 1701, 'timetables': 1702, 'rustling': 1703, 'belt': 1704, 'girdles': 1705, 'heave': 1706, 'migrate': 1707, 'tremulous': 1708, 'loosed': 1709, 'moonlight': 1710, 'lashed': 1711, 'insatiable': 1712, 'essences': 1713, 'sodden': 1714, 'lemons': 1715, 'planetarium': 1716, 'merchandise': 1717, 'harbors': 1718, 'bazaars': 1719, 'barbarous': 1720, 'halves': 1721, 'clotting': 1722, 'acids': 1723, 'brims': 1724, 'starry': 1725, 'divisions': 1726, 'creation': 1727, 'original': 1728, 'juices': 1729, 'irreducible': 1730, 'changeless': 1731, 'alive': 1732, 'freshness': 1733, 'smelling': 1734, 'rind': 1735, 'proportions': 1736, 'arcane': 1737, 'acerb': 1738, 'knife': 1739, 'cathedral': 1740, 'alcoves': 1741, 'unguessed': 1742, 'eye': 1743, 'acidulous': 1744, 'topazes': 1745, 'droplets': 1746, 'altars': 1747, 'aromatic': 1748, 'facades': 1749, 'holds': 1750, 'cut': 1751, 'trencher': 1752, 'universe': 1753, 'wells': 1754, 'miracles': 1755, 'nipple': 1756, 'perfuming': 1757, 'flashing': 1758, 'fruitage': 1759, 'planet': 1760, 'rusted': 1761, 'machine': 1762, 'join': 1763, 'right': 1764, 'coat': 1765, 'manners': 1766, 'materialist': 1767, 'promised': 1768, 'enter': 1769, 'dogdom': 1770, 'waits': 1771, 'waving': 1772, 'fan': 1773, 'having': 1774, 'companion': 1775, 'servile': 1776, 'porcupine': 1777, 'withholding': 1778, 'authority': 1779, 'aloof': 1780, 'intimacy': 1781, 'exaggerations': 1782, 'mange': 1783, 'rubbed': 1784, 'knee': 1785, 'obsessed': 1786, 'paying': 1787, 'required': 1788, 'person': 1789, 'wasting': 1790, 'd': 1791, 'reserved': 1792, 'troubling': 1793, 'envied': 1794, 'isla': 1795, 'negra': 1796, 'wintering': 1797, 'hairy': 1798, 'jumping': 1799, 'voltage': 1800, 'spray': 1801, 'autonomy': 1802, 'shameless': 1803, 'byes': 1804, 'lie': 1805, 'cuts': 1806, 'passing': 1807, 'later': 1808, 'fog': 1809, 'torch': 1810, 'others': 1811, 'blossomed': 1812, 'glowing': 1813, 'origin': 1814, 'end': 1815, 'coming': 1816, 'inspiringly': 1817, 'march': 1818, 'covert': 1819, 'swim': 1820, 'vague': 1821, 'earthly': 1822, 'vapours': 1823, 'progress': 1824, 'slip': 1825, 'fortuity': 1826, 'crisis': 1827, 'errant': 1828, 'skies': 1829, 'reunite': 1830, 'grey': 1831, 'lurchings': 1832, 'guitar': 1833, 'soaked': 1834, 'mermaids': 1835, 'stairway': 1836, 'waken': 1837, 'waves': 1838, 'cargoes': 1839, 'rages': 1840, 'unquiet': 1841, 'brightness': 1842, 'bursts': 1843, 'contracts': 1844, 'cluster': 1845, 'magnolia': 1846, 'radiance': 1847, 'magnetic': 1848, 'voyager': 1849, 'returns': 1850, 'nothingness': 1851, 'dazzling': 1852, 'seal': 1853, 'destroys': 1854, 'collapses': 1855, 'turrets': 1856, 'wildness': 1857, 'weft': 1858, 'unseen': 1859, 'garments': 1860, 'headlong': 1861, 'perpetual': 1862, 'bear': 1863, 'sole': 1864, 'carnal': 1865, 'apple': 1866, 'crush': 1867, 'knowledge': 1868, 'clasped': 1869, 'primal': 1870, 'senses': 1871, 'ay': 1872, 'journey': 1873, 'suffocating': 1874, 'tempests': 1875, 'war': 1876, 'lightning': 1877, 'ruined': 1878, 'cover': 1879, 'infinity': 1880, 'margins': 1881, 'villages': 1882, 'genital': 1883, 'transformed': 1884, 'delight': 1885, 'narrow': 1886, 'channels': 1887, 'precipitate': 1888, 'nocturnal': 1889, 'carnation': 1890, 'roselet': 1891, 'fit': 1892, 'clasp': 1893, 'carry': 1894, 'hills': 1895, 'manages': 1896, 'encircle': 1897, 'loosened': 1898, 'yourself': 1899, 'spacious': 1900, 'lean': 1901, 'named': 1902, 'sees': 1903, 'tread': 1904, 'nonexistent': 1905, 'appear': 1906, 'shake': 1907, 'fills': 1908, 'listen': 1909, 'cast': 1910, 'highest': 1911, 'lengthens': 1912, 'turning': 1913, 'send': 1914, 'signals': 1915, 'absent': 1916, 'female': 1917, 'regard': 1918, 'coast': 1919, 'fling': 1920, 'thrashed': 1921, 'peck': 1922, 'gallops': 1923, 'shadowy': 1924, 'mare': 1925, 'tassels': 1926, 'underground': 1927, 'wish': 1928, 'turn': 1929, 'void': 1930, 'dumb': 1931, 'finger': 1932, 'deliver': 1933, 'pitiful': 1934, 'passions': 1935, 'use': 1936, 'surface': 1937, 'everyday': 1938, 'survive': 1939, 'state': 1940, 'metallic': 1941, 'primeval': 1942, 'gay': 1943, 'sick': 1944, 'suffering': 1945, 'sleepless': 1946, 'raucous': 1947, 'cats': 1948, 'cruise': 1949, 'necklace': 1950, 'pulsating': 1951, 'residence': 1952, 'lined': 1953, 'order': 1954, 'leads': 1955, 'predictable': 1956, 'melancholic': 1957, 'skinny': 1958, 'pairings': 1959, 'caressed': 1960, 'womens': 1961, 'sparkle': 1962, 'employee': 1963, 'weeks': 1964, 'boredom': 1965, 'definitively': 1966, 'seduced': 1967, 'carried': 1968, 'movie': 1969, 'studs': 1970, 'strokes': 1971, 'seducers': 1972, 'peoples': 1973, 'male': 1974, 'masturbate': 1975, 'creatures': 1976, 'fornicate': 1977, 'outright': 1978, 'madly': 1979, 'boy': 1980, 'oddly': 1981, 'stare': 1982, 'patients': 1983, 'performs': 1984, 'marriage': 1985, 'duties': 1986, 'breakfasts': 1987, 'moreover': 1988, 'liners': 1989, 'finally': 1990, 'surrounding': 1991, 'shape': 1992, 'hooves': 1993, 'broke': 1994, 'twig': 1995, 'crying': 1996, 'cracked': 1997, 'seemed': 1998, 'muffled': 1999, 'autumns': 2000, 'wakening': 2001, 'dreaming': 2002, 'hazel': 2003, 'sprig': 2004, 'drifting': 2005, 'conscious': 2006, 'cried': 2007, 'scent': 2008, 'shoots': 2009, 'blooms': 2010, 'thanks': 2011, 'solid': 2012, 'risen': 2013, 'straightforwardly': 2014, 'complexities': 2015, 'exist': 2016, 're': 2017, 'clamber': 2018, 'trellis': 2019, 'honeysuckle': 2020, 'nomadic': 2021, 'wandered': 2022, 'armenia': 2023, 'dollop': 2024, 'disinterred': 2025, 'ceylon': 2026, 'yangtse': 2027, 'patience': 2028, 'dividing': 2029, 'crackling': 2030, 'fly': 2031, 'resting': 2032, 'belong': 2033, 'cool': 2034, 'wide': 2035, 'slender': 2036, 'pony': 2037, 'copper': 2038, 'burns': 2039, 'rests': 2040, 'countries': 2041, 'country': 2042, 'loaves': 2043, 'grainy': 2044, 'shaped': 2045, 'hips': 2046, 'nails': 2047, 'dear': 2048, 'rest': 2049, 'devil': 2050, 'absolute': 2051, 'clusterings': 2052, 'upright': 2053, 'loneliness': 2054, 'city': 2055, 'describes': 2056, 'honors': 2057, 'nourishes': 2058, 'peace': 2059, 'heavenly': 2060, 'outcome': 2061, 'furious': 2062, 'certainty': 2063, 'decisions': 2064, 'harder': 2065, 'hammer': 2066, 'twins': 2067, 'balance': 2068, 'scale': 2069, 'transparency': 2070, 'built': 2071, 'extinguishes': 2072, 'work': 2073, 'wheels': 2074, 'boredoms': 2075, 'farewells': 2076, 'surrender': 2077, 'swaying': 2078, 'stole': 2079, 'page': 2080, 'sustains': 2081, 'bay': 2082, 'room': 2083, 'acquires': 2084, 'slowness': 2085, 'preparing': 2086, 'cupola': 2087, 'ringed': 2088, 'impenetrable': 2089, 'drowns': 2090, 'tempestuous': 2091, 'orbs': 2092, 'space': 2093, 'flow': 2094}\n",
            "2095\n"
          ],
          "name": "stdout"
        }
      ]
    },
    {
      "cell_type": "markdown",
      "metadata": {
        "id": "ic_6vEOXMiI0",
        "colab_type": "text"
      },
      "source": [
        "3.1) The input_sequences are kept empty which will be filled further.\n",
        "\n",
        "3.2) The whole loop is exaplained in this [video](https://www.youtube.com/watch?v=ZMudJXhsUpY&list=PLQY2H8rRoyvwLbzbnKJ59NkZvQAW9wLbx&index=6) at the timestamp of 2:55. It does a much better job of visualizing the whole process which makes it easier to understand. In short, if you don't want to watch the video, it helps in maintaining a record as to which word succeeds the other.\n",
        "\n",
        "3.3) 'max_sequences' takes the maximum length of sentences and then padding is done in front of the sentences so that equal length of all the sentences are made.\n",
        "\n",
        "3.4) The input_sequences which are having the sentences are stored into two variables xs and labels. xs stores the padded sentences and labels stores the key of the words in the sentences. \n",
        "\n",
        "3.5) This is then passed to np.utils which converts the labels into One Hot Vector.\n"
      ]
    },
    {
      "cell_type": "code",
      "metadata": {
        "id": "c1mVa2Awb1Wf",
        "colab_type": "code",
        "colab": {}
      },
      "source": [
        "input_sequences = []                                                            #3.1\n",
        "for line in corpus:                                                             \n",
        "\ttoken_list = tokenizer.texts_to_sequences([line])[0]\n",
        "\tfor i in range(1, len(token_list)):                                           #3.2 The whole loop\n",
        "\t\tn_gram_sequence = token_list[:i+1]\n",
        "\t\tinput_sequences.append(n_gram_sequence)\n",
        "\n",
        "# pad sequences \n",
        "max_sequence_len = max([len(x) for x in input_sequences])                       #3.3\n",
        "input_sequences = np.array(pad_sequences(input_sequences, maxlen=max_sequence_len, padding='pre'))\n",
        "\n",
        "# create predictors and label\n",
        "xs, labels = input_sequences[:,:-1],input_sequences[:,-1]                       #3.4\n",
        "ys = tf.keras.utils.to_categorical(labels, num_classes=total_words)             #3.5"
      ],
      "execution_count": 4,
      "outputs": []
    },
    {
      "cell_type": "markdown",
      "metadata": {
        "id": "eW3J3aElQwWE",
        "colab_type": "text"
      },
      "source": [
        "4.1) Sequential model is used.\n",
        "\n",
        "4.2) The input layer is embedded such that words have meaning to them when being processed. There are 100 neurons in the layer and the input layer has 197 neuron which is maximum length minus 1.\n",
        "\n",
        "4.3) Bidirectional LSTM is used which has 300 neurons. To understand LSTM, follow this [link](https://colah.github.io/posts/2015-08-Understanding-LSTMs/) or you can watch this [video](https://youtu.be/rdkIOM78ZPk) who explains the link attached above for LSTM.\n",
        "\n",
        "4.4) The output layer is a Dense layer which means all the neurons are fully connected and softmax activation function is used.\n",
        "\n",
        "4.5) Adam optimizer is used with a learning rate of 0.01\n",
        "\n",
        "4.6) As the data is categorical therefore categorical_crossentropy is used and metrics is measured in accuracy.\n",
        "\n",
        "4.7) The model is then fit on xs value and the ys value taken from labels. The whole model is run 200 epochs which means the whole forward propogation and backward propogation will be done 200 times. \n",
        "\n"
      ]
    },
    {
      "cell_type": "code",
      "metadata": {
        "id": "iiOH6hBacBoh",
        "colab_type": "code",
        "colab": {
          "base_uri": "https://localhost:8080/",
          "height": 1000
        },
        "outputId": "f94b3a5e-78e2-48ad-e17c-d1fa13f47b13"
      },
      "source": [
        "model = Sequential()\n",
        "model.add(Embedding(total_words, 100, input_length=max_sequence_len-1))\n",
        "model.add(Bidirectional(LSTM(150)))\n",
        "model.add(Dense(total_words, activation='softmax'))\n",
        "adam = Adam(lr=0.01)\n",
        "model.compile(loss='categorical_crossentropy', optimizer=adam, metrics=['accuracy'])\n",
        "history = model.fit(xs, ys, epochs=200, verbose=1)\n",
        "#print model.summary()\n",
        "print(model)\n"
      ],
      "execution_count": 5,
      "outputs": [
        {
          "output_type": "stream",
          "text": [
            "Epoch 1/200\n",
            "272/272 [==============================] - 25s 93ms/step - loss: 6.4831 - accuracy: 0.0762\n",
            "Epoch 2/200\n",
            "272/272 [==============================] - 24s 89ms/step - loss: 5.5763 - accuracy: 0.1136\n",
            "Epoch 3/200\n",
            "272/272 [==============================] - 24s 88ms/step - loss: 4.7413 - accuracy: 0.1611\n",
            "Epoch 4/200\n",
            "272/272 [==============================] - 24s 87ms/step - loss: 3.7571 - accuracy: 0.2377\n",
            "Epoch 5/200\n",
            "272/272 [==============================] - 23s 85ms/step - loss: 2.8073 - accuracy: 0.3652\n",
            "Epoch 6/200\n",
            "272/272 [==============================] - 23s 86ms/step - loss: 1.9648 - accuracy: 0.5237\n",
            "Epoch 7/200\n",
            "272/272 [==============================] - 23s 86ms/step - loss: 1.4181 - accuracy: 0.6406\n",
            "Epoch 8/200\n",
            "272/272 [==============================] - 24s 86ms/step - loss: 1.0125 - accuracy: 0.7408\n",
            "Epoch 9/200\n",
            "272/272 [==============================] - 23s 85ms/step - loss: 0.7820 - accuracy: 0.8029\n",
            "Epoch 10/200\n",
            "272/272 [==============================] - 23s 85ms/step - loss: 0.6107 - accuracy: 0.8481\n",
            "Epoch 11/200\n",
            "272/272 [==============================] - 23s 85ms/step - loss: 0.5041 - accuracy: 0.8757\n",
            "Epoch 12/200\n",
            "272/272 [==============================] - 23s 85ms/step - loss: 0.4982 - accuracy: 0.8729\n",
            "Epoch 13/200\n",
            "272/272 [==============================] - 23s 85ms/step - loss: 0.6015 - accuracy: 0.8403\n",
            "Epoch 14/200\n",
            "272/272 [==============================] - 23s 85ms/step - loss: 0.8144 - accuracy: 0.7796\n",
            "Epoch 15/200\n",
            "272/272 [==============================] - 23s 86ms/step - loss: 1.0741 - accuracy: 0.7068\n",
            "Epoch 16/200\n",
            "272/272 [==============================] - 23s 86ms/step - loss: 0.9023 - accuracy: 0.7492\n",
            "Epoch 17/200\n",
            "272/272 [==============================] - 23s 86ms/step - loss: 0.6332 - accuracy: 0.8264\n",
            "Epoch 18/200\n",
            "272/272 [==============================] - 23s 86ms/step - loss: 0.4422 - accuracy: 0.8801\n",
            "Epoch 19/200\n",
            "272/272 [==============================] - 23s 86ms/step - loss: 0.3315 - accuracy: 0.9140\n",
            "Epoch 20/200\n",
            "272/272 [==============================] - 23s 86ms/step - loss: 0.2651 - accuracy: 0.9349\n",
            "Epoch 21/200\n",
            "272/272 [==============================] - 24s 87ms/step - loss: 0.2373 - accuracy: 0.9388\n",
            "Epoch 22/200\n",
            "272/272 [==============================] - 23s 86ms/step - loss: 0.2127 - accuracy: 0.9478\n",
            "Epoch 23/200\n",
            "272/272 [==============================] - 23s 86ms/step - loss: 0.2076 - accuracy: 0.9464\n",
            "Epoch 24/200\n",
            "272/272 [==============================] - 24s 87ms/step - loss: 0.2303 - accuracy: 0.9407\n",
            "Epoch 25/200\n",
            "272/272 [==============================] - 24s 87ms/step - loss: 0.6242 - accuracy: 0.8307\n",
            "Epoch 26/200\n",
            "272/272 [==============================] - 23s 86ms/step - loss: 2.6104 - accuracy: 0.4506\n",
            "Epoch 27/200\n",
            "272/272 [==============================] - 23s 86ms/step - loss: 1.9901 - accuracy: 0.5348\n",
            "Epoch 28/200\n",
            "272/272 [==============================] - 23s 86ms/step - loss: 1.1617 - accuracy: 0.6904\n",
            "Epoch 29/200\n",
            "272/272 [==============================] - 23s 86ms/step - loss: 0.6908 - accuracy: 0.8042\n",
            "Epoch 30/200\n",
            "272/272 [==============================] - 23s 86ms/step - loss: 0.4704 - accuracy: 0.8724\n",
            "Epoch 31/200\n",
            "272/272 [==============================] - 23s 86ms/step - loss: 0.3105 - accuracy: 0.9201\n",
            "Epoch 32/200\n",
            "272/272 [==============================] - 24s 87ms/step - loss: 0.2268 - accuracy: 0.9441\n",
            "Epoch 33/200\n",
            "272/272 [==============================] - 24s 88ms/step - loss: 0.1801 - accuracy: 0.9557\n",
            "Epoch 34/200\n",
            "272/272 [==============================] - 23s 85ms/step - loss: 0.1637 - accuracy: 0.9579\n",
            "Epoch 35/200\n",
            "272/272 [==============================] - 23s 85ms/step - loss: 0.1540 - accuracy: 0.9598\n",
            "Epoch 36/200\n",
            "272/272 [==============================] - 23s 85ms/step - loss: 0.1493 - accuracy: 0.9588\n",
            "Epoch 37/200\n",
            "272/272 [==============================] - 23s 85ms/step - loss: 0.1508 - accuracy: 0.9588\n",
            "Epoch 38/200\n",
            "272/272 [==============================] - 23s 85ms/step - loss: 0.1513 - accuracy: 0.9588\n",
            "Epoch 39/200\n",
            "272/272 [==============================] - 23s 85ms/step - loss: 0.1532 - accuracy: 0.9585\n",
            "Epoch 40/200\n",
            "272/272 [==============================] - 23s 85ms/step - loss: 0.1476 - accuracy: 0.9598\n",
            "Epoch 41/200\n",
            "272/272 [==============================] - 23s 85ms/step - loss: 0.1528 - accuracy: 0.9591\n",
            "Epoch 42/200\n",
            "272/272 [==============================] - 23s 84ms/step - loss: 0.1574 - accuracy: 0.9580\n",
            "Epoch 43/200\n",
            "272/272 [==============================] - 23s 84ms/step - loss: 1.8290 - accuracy: 0.6554\n",
            "Epoch 44/200\n",
            "272/272 [==============================] - 23s 84ms/step - loss: 4.0700 - accuracy: 0.3038\n",
            "Epoch 45/200\n",
            "272/272 [==============================] - 23s 84ms/step - loss: 2.2579 - accuracy: 0.4864\n",
            "Epoch 46/200\n",
            "272/272 [==============================] - 23s 84ms/step - loss: 1.3143 - accuracy: 0.6542\n",
            "Epoch 47/200\n",
            "272/272 [==============================] - 23s 84ms/step - loss: 0.8354 - accuracy: 0.7710\n",
            "Epoch 48/200\n",
            "272/272 [==============================] - 23s 85ms/step - loss: 0.5433 - accuracy: 0.8534\n",
            "Epoch 49/200\n",
            "272/272 [==============================] - 23s 85ms/step - loss: 0.3959 - accuracy: 0.8955\n",
            "Epoch 50/200\n",
            "272/272 [==============================] - 24s 87ms/step - loss: 0.2891 - accuracy: 0.9329\n",
            "Epoch 51/200\n",
            "272/272 [==============================] - 24s 87ms/step - loss: 0.2267 - accuracy: 0.9471\n",
            "Epoch 52/200\n",
            "272/272 [==============================] - 24s 87ms/step - loss: 0.1934 - accuracy: 0.9550\n",
            "Epoch 53/200\n",
            "272/272 [==============================] - 24s 87ms/step - loss: 0.1755 - accuracy: 0.9583\n",
            "Epoch 54/200\n",
            "272/272 [==============================] - 24s 86ms/step - loss: 0.1675 - accuracy: 0.9591\n",
            "Epoch 55/200\n",
            "272/272 [==============================] - 24s 87ms/step - loss: 0.1681 - accuracy: 0.9573\n",
            "Epoch 56/200\n",
            "272/272 [==============================] - 24s 87ms/step - loss: 0.1646 - accuracy: 0.9587\n",
            "Epoch 57/200\n",
            "272/272 [==============================] - 24s 87ms/step - loss: 0.1646 - accuracy: 0.9572\n",
            "Epoch 58/200\n",
            "272/272 [==============================] - 24s 87ms/step - loss: 0.1590 - accuracy: 0.9592\n",
            "Epoch 59/200\n",
            "272/272 [==============================] - 24s 87ms/step - loss: 0.1606 - accuracy: 0.9590\n",
            "Epoch 60/200\n",
            "272/272 [==============================] - 24s 87ms/step - loss: 0.1624 - accuracy: 0.9587\n",
            "Epoch 61/200\n",
            "272/272 [==============================] - 24s 87ms/step - loss: 0.4591 - accuracy: 0.8855\n",
            "Epoch 62/200\n",
            "272/272 [==============================] - 24s 87ms/step - loss: 4.2566 - accuracy: 0.2876\n",
            "Epoch 63/200\n",
            "272/272 [==============================] - 23s 85ms/step - loss: 2.4987 - accuracy: 0.4706\n",
            "Epoch 64/200\n",
            "272/272 [==============================] - 23s 86ms/step - loss: 1.4407 - accuracy: 0.6311\n",
            "Epoch 65/200\n",
            "272/272 [==============================] - 23s 86ms/step - loss: 0.9065 - accuracy: 0.7522\n",
            "Epoch 66/200\n",
            "272/272 [==============================] - 23s 86ms/step - loss: 0.5960 - accuracy: 0.8365\n",
            "Epoch 67/200\n",
            "272/272 [==============================] - 23s 86ms/step - loss: 0.4218 - accuracy: 0.8893\n",
            "Epoch 68/200\n",
            "272/272 [==============================] - 23s 86ms/step - loss: 0.3028 - accuracy: 0.9279\n",
            "Epoch 69/200\n",
            "272/272 [==============================] - 23s 85ms/step - loss: 0.2376 - accuracy: 0.9449\n",
            "Epoch 70/200\n",
            "272/272 [==============================] - 23s 85ms/step - loss: 0.2037 - accuracy: 0.9539\n",
            "Epoch 71/200\n",
            "272/272 [==============================] - 23s 85ms/step - loss: 0.1891 - accuracy: 0.9557\n",
            "Epoch 72/200\n",
            "272/272 [==============================] - 23s 85ms/step - loss: 0.1804 - accuracy: 0.9577\n",
            "Epoch 73/200\n",
            "272/272 [==============================] - 23s 85ms/step - loss: 0.1663 - accuracy: 0.9595\n",
            "Epoch 74/200\n",
            "272/272 [==============================] - 23s 85ms/step - loss: 0.1678 - accuracy: 0.9583\n",
            "Epoch 75/200\n",
            "272/272 [==============================] - 23s 85ms/step - loss: 0.1633 - accuracy: 0.9594\n",
            "Epoch 76/200\n",
            "272/272 [==============================] - 23s 85ms/step - loss: 0.1668 - accuracy: 0.9583\n",
            "Epoch 77/200\n",
            "272/272 [==============================] - 23s 85ms/step - loss: 0.1624 - accuracy: 0.9584\n",
            "Epoch 78/200\n",
            "272/272 [==============================] - 23s 85ms/step - loss: 0.1928 - accuracy: 0.9508\n",
            "Epoch 79/200\n",
            "272/272 [==============================] - 23s 85ms/step - loss: 2.7575 - accuracy: 0.4889\n",
            "Epoch 80/200\n",
            "272/272 [==============================] - 23s 85ms/step - loss: 3.2932 - accuracy: 0.3889\n",
            "Epoch 81/200\n",
            "272/272 [==============================] - 23s 85ms/step - loss: 1.7999 - accuracy: 0.5799\n",
            "Epoch 82/200\n",
            "272/272 [==============================] - 23s 85ms/step - loss: 1.1371 - accuracy: 0.7042\n",
            "Epoch 83/200\n",
            "272/272 [==============================] - 23s 85ms/step - loss: 0.7891 - accuracy: 0.7896\n",
            "Epoch 84/200\n",
            "272/272 [==============================] - 23s 86ms/step - loss: 0.5584 - accuracy: 0.8465\n",
            "Epoch 85/200\n",
            "272/272 [==============================] - 23s 85ms/step - loss: 0.4420 - accuracy: 0.8812\n",
            "Epoch 86/200\n",
            "272/272 [==============================] - 23s 86ms/step - loss: 0.3521 - accuracy: 0.9090\n",
            "Epoch 87/200\n",
            "272/272 [==============================] - 23s 86ms/step - loss: 0.2907 - accuracy: 0.9293\n",
            "Epoch 88/200\n",
            "272/272 [==============================] - 23s 86ms/step - loss: 0.2606 - accuracy: 0.9407\n",
            "Epoch 89/200\n",
            "272/272 [==============================] - 23s 85ms/step - loss: 0.2223 - accuracy: 0.9498\n",
            "Epoch 90/200\n",
            "272/272 [==============================] - 23s 85ms/step - loss: 0.1991 - accuracy: 0.9533\n",
            "Epoch 91/200\n",
            "272/272 [==============================] - 23s 86ms/step - loss: 0.1971 - accuracy: 0.9539\n",
            "Epoch 92/200\n",
            "272/272 [==============================] - 23s 86ms/step - loss: 0.1900 - accuracy: 0.9538\n",
            "Epoch 93/200\n",
            "272/272 [==============================] - 23s 85ms/step - loss: 0.1965 - accuracy: 0.9531\n",
            "Epoch 94/200\n",
            "272/272 [==============================] - 23s 86ms/step - loss: 0.2643 - accuracy: 0.9334\n",
            "Epoch 95/200\n",
            "272/272 [==============================] - 23s 86ms/step - loss: 1.7028 - accuracy: 0.6370\n",
            "Epoch 96/200\n",
            "272/272 [==============================] - 23s 86ms/step - loss: 3.0173 - accuracy: 0.4261\n",
            "Epoch 97/200\n",
            "272/272 [==============================] - 23s 86ms/step - loss: 1.6142 - accuracy: 0.6193\n",
            "Epoch 98/200\n",
            "272/272 [==============================] - 23s 86ms/step - loss: 1.0552 - accuracy: 0.7217\n",
            "Epoch 99/200\n",
            "272/272 [==============================] - 23s 86ms/step - loss: 0.7151 - accuracy: 0.8011\n",
            "Epoch 100/200\n",
            "272/272 [==============================] - 23s 86ms/step - loss: 0.5090 - accuracy: 0.8552\n",
            "Epoch 101/200\n",
            "272/272 [==============================] - 23s 86ms/step - loss: 0.3945 - accuracy: 0.8951\n",
            "Epoch 102/200\n",
            "272/272 [==============================] - 23s 86ms/step - loss: 0.3211 - accuracy: 0.9212\n",
            "Epoch 103/200\n",
            "272/272 [==============================] - 23s 86ms/step - loss: 0.2793 - accuracy: 0.9327\n",
            "Epoch 104/200\n",
            "272/272 [==============================] - 24s 87ms/step - loss: 0.2446 - accuracy: 0.9449\n",
            "Epoch 105/200\n",
            "272/272 [==============================] - 24s 86ms/step - loss: 0.2224 - accuracy: 0.9487\n",
            "Epoch 106/200\n",
            "272/272 [==============================] - 24s 87ms/step - loss: 0.2090 - accuracy: 0.9531\n",
            "Epoch 107/200\n",
            "272/272 [==============================] - 24s 88ms/step - loss: 0.1971 - accuracy: 0.9549\n",
            "Epoch 108/200\n",
            "272/272 [==============================] - 24s 88ms/step - loss: 0.1996 - accuracy: 0.9542\n",
            "Epoch 109/200\n",
            "272/272 [==============================] - 24s 88ms/step - loss: 0.2005 - accuracy: 0.9550\n",
            "Epoch 110/200\n",
            "272/272 [==============================] - 24s 87ms/step - loss: 0.2142 - accuracy: 0.9498\n",
            "Epoch 111/200\n",
            "272/272 [==============================] - 24s 87ms/step - loss: 0.7688 - accuracy: 0.8126\n",
            "Epoch 112/200\n",
            "272/272 [==============================] - 23s 86ms/step - loss: 2.4484 - accuracy: 0.5140\n",
            "Epoch 113/200\n",
            "272/272 [==============================] - 23s 85ms/step - loss: 1.8392 - accuracy: 0.5911\n",
            "Epoch 114/200\n",
            "272/272 [==============================] - 23s 85ms/step - loss: 1.1750 - accuracy: 0.6931\n",
            "Epoch 115/200\n",
            "272/272 [==============================] - 23s 84ms/step - loss: 0.7882 - accuracy: 0.7799\n",
            "Epoch 116/200\n",
            "272/272 [==============================] - 23s 84ms/step - loss: 0.5761 - accuracy: 0.8378\n",
            "Epoch 117/200\n",
            "272/272 [==============================] - 23s 84ms/step - loss: 0.4341 - accuracy: 0.8790\n",
            "Epoch 118/200\n",
            "272/272 [==============================] - 23s 84ms/step - loss: 0.3485 - accuracy: 0.9080\n",
            "Epoch 119/200\n",
            "272/272 [==============================] - 23s 84ms/step - loss: 0.2961 - accuracy: 0.9240\n",
            "Epoch 120/200\n",
            "272/272 [==============================] - 23s 84ms/step - loss: 0.2606 - accuracy: 0.9384\n",
            "Epoch 121/200\n",
            "272/272 [==============================] - 23s 84ms/step - loss: 0.2239 - accuracy: 0.9483\n",
            "Epoch 122/200\n",
            "272/272 [==============================] - 23s 84ms/step - loss: 0.2152 - accuracy: 0.9503\n",
            "Epoch 123/200\n",
            "272/272 [==============================] - 23s 84ms/step - loss: 0.2039 - accuracy: 0.9517\n",
            "Epoch 124/200\n",
            "272/272 [==============================] - 23s 84ms/step - loss: 0.2046 - accuracy: 0.9534\n",
            "Epoch 125/200\n",
            "272/272 [==============================] - 23s 84ms/step - loss: 0.2066 - accuracy: 0.9519\n",
            "Epoch 126/200\n",
            "272/272 [==============================] - 23s 84ms/step - loss: 0.2339 - accuracy: 0.9437\n",
            "Epoch 127/200\n",
            "272/272 [==============================] - 23s 84ms/step - loss: 0.6243 - accuracy: 0.8359\n",
            "Epoch 128/200\n",
            "272/272 [==============================] - 23s 84ms/step - loss: 1.9471 - accuracy: 0.5896\n",
            "Epoch 129/200\n",
            "272/272 [==============================] - 23s 84ms/step - loss: 1.5997 - accuracy: 0.6302\n",
            "Epoch 130/200\n",
            "272/272 [==============================] - 23s 84ms/step - loss: 1.0210 - accuracy: 0.7304\n",
            "Epoch 131/200\n",
            "272/272 [==============================] - 23s 84ms/step - loss: 0.6782 - accuracy: 0.8067\n",
            "Epoch 132/200\n",
            "272/272 [==============================] - 23s 83ms/step - loss: 0.4670 - accuracy: 0.8665\n",
            "Epoch 133/200\n",
            "272/272 [==============================] - 23s 84ms/step - loss: 0.3604 - accuracy: 0.8990\n",
            "Epoch 134/200\n",
            "272/272 [==============================] - 23s 84ms/step - loss: 0.2922 - accuracy: 0.9251\n",
            "Epoch 135/200\n",
            "272/272 [==============================] - 23s 84ms/step - loss: 0.2500 - accuracy: 0.9380\n",
            "Epoch 136/200\n",
            "272/272 [==============================] - 23s 84ms/step - loss: 0.2225 - accuracy: 0.9462\n",
            "Epoch 137/200\n",
            "272/272 [==============================] - 23s 84ms/step - loss: 0.2001 - accuracy: 0.9518\n",
            "Epoch 138/200\n",
            "272/272 [==============================] - 23s 84ms/step - loss: 0.1984 - accuracy: 0.9542\n",
            "Epoch 139/200\n",
            "272/272 [==============================] - 23s 84ms/step - loss: 0.1961 - accuracy: 0.9534\n",
            "Epoch 140/200\n",
            "272/272 [==============================] - 23s 84ms/step - loss: 0.2020 - accuracy: 0.9514\n",
            "Epoch 141/200\n",
            "272/272 [==============================] - 23s 84ms/step - loss: 0.2044 - accuracy: 0.9522\n",
            "Epoch 142/200\n",
            "272/272 [==============================] - 23s 84ms/step - loss: 0.2625 - accuracy: 0.9317\n",
            "Epoch 143/200\n",
            "272/272 [==============================] - 23s 84ms/step - loss: 1.0537 - accuracy: 0.7477\n",
            "Epoch 144/200\n",
            "272/272 [==============================] - 23s 84ms/step - loss: 1.7124 - accuracy: 0.6308\n",
            "Epoch 145/200\n",
            "272/272 [==============================] - 23s 84ms/step - loss: 1.2341 - accuracy: 0.6968\n",
            "Epoch 146/200\n",
            "272/272 [==============================] - 23s 84ms/step - loss: 0.8351 - accuracy: 0.7745\n",
            "Epoch 147/200\n",
            "272/272 [==============================] - 23s 84ms/step - loss: 0.5725 - accuracy: 0.8355\n",
            "Epoch 148/200\n",
            "272/272 [==============================] - 23s 84ms/step - loss: 0.3972 - accuracy: 0.8870\n",
            "Epoch 149/200\n",
            "272/272 [==============================] - 23s 84ms/step - loss: 0.3190 - accuracy: 0.9122\n",
            "Epoch 150/200\n",
            "272/272 [==============================] - 23s 84ms/step - loss: 0.2593 - accuracy: 0.9353\n",
            "Epoch 151/200\n",
            "272/272 [==============================] - 23s 84ms/step - loss: 0.2449 - accuracy: 0.9393\n",
            "Epoch 152/200\n",
            "272/272 [==============================] - 23s 84ms/step - loss: 0.2255 - accuracy: 0.9435\n",
            "Epoch 153/200\n",
            "272/272 [==============================] - 23s 84ms/step - loss: 0.2226 - accuracy: 0.9465\n",
            "Epoch 154/200\n",
            "272/272 [==============================] - 23s 84ms/step - loss: 0.2123 - accuracy: 0.9492\n",
            "Epoch 155/200\n",
            "272/272 [==============================] - 23s 84ms/step - loss: 0.2073 - accuracy: 0.9514\n",
            "Epoch 156/200\n",
            "272/272 [==============================] - 23s 84ms/step - loss: 0.2183 - accuracy: 0.9466\n",
            "Epoch 157/200\n",
            "272/272 [==============================] - 23s 83ms/step - loss: 0.2809 - accuracy: 0.9292\n",
            "Epoch 158/200\n",
            "272/272 [==============================] - 22s 81ms/step - loss: 0.6357 - accuracy: 0.8321\n",
            "Epoch 159/200\n",
            "272/272 [==============================] - 22s 81ms/step - loss: 1.5747 - accuracy: 0.6539\n",
            "Epoch 160/200\n",
            "272/272 [==============================] - 22s 81ms/step - loss: 1.3846 - accuracy: 0.6810\n",
            "Epoch 161/200\n",
            "272/272 [==============================] - 22s 81ms/step - loss: 0.9977 - accuracy: 0.7491\n",
            "Epoch 162/200\n",
            "272/272 [==============================] - 22s 81ms/step - loss: 0.6677 - accuracy: 0.8171\n",
            "Epoch 163/200\n",
            "272/272 [==============================] - 22s 80ms/step - loss: 0.4738 - accuracy: 0.8655\n",
            "Epoch 164/200\n",
            "272/272 [==============================] - 22s 80ms/step - loss: 0.3628 - accuracy: 0.9010\n",
            "Epoch 165/200\n",
            "272/272 [==============================] - 22s 80ms/step - loss: 0.3067 - accuracy: 0.9193\n",
            "Epoch 166/200\n",
            "272/272 [==============================] - 22s 80ms/step - loss: 0.2642 - accuracy: 0.9330\n",
            "Epoch 167/200\n",
            "272/272 [==============================] - 22s 80ms/step - loss: 0.2417 - accuracy: 0.9407\n",
            "Epoch 168/200\n",
            "272/272 [==============================] - 22s 80ms/step - loss: 0.2280 - accuracy: 0.9468\n",
            "Epoch 169/200\n",
            "272/272 [==============================] - 22s 81ms/step - loss: 0.2147 - accuracy: 0.9495\n",
            "Epoch 170/200\n",
            "272/272 [==============================] - 22s 80ms/step - loss: 0.2160 - accuracy: 0.9502\n",
            "Epoch 171/200\n",
            "272/272 [==============================] - 22s 80ms/step - loss: 0.2157 - accuracy: 0.9503\n",
            "Epoch 172/200\n",
            "272/272 [==============================] - 22s 80ms/step - loss: 0.2183 - accuracy: 0.9506\n",
            "Epoch 173/200\n",
            "272/272 [==============================] - 22s 81ms/step - loss: 0.2300 - accuracy: 0.9452\n",
            "Epoch 174/200\n",
            "272/272 [==============================] - 22s 81ms/step - loss: 0.3910 - accuracy: 0.8970\n",
            "Epoch 175/200\n",
            "272/272 [==============================] - 22s 81ms/step - loss: 1.0571 - accuracy: 0.7457\n",
            "Epoch 176/200\n",
            "272/272 [==============================] - 22s 82ms/step - loss: 1.3352 - accuracy: 0.6944\n",
            "Epoch 177/200\n",
            "272/272 [==============================] - 23s 84ms/step - loss: 1.0260 - accuracy: 0.7469\n",
            "Epoch 178/200\n",
            "272/272 [==============================] - 23s 83ms/step - loss: 0.6874 - accuracy: 0.8127\n",
            "Epoch 179/200\n",
            "272/272 [==============================] - 23s 83ms/step - loss: 0.4811 - accuracy: 0.8640\n",
            "Epoch 180/200\n",
            "272/272 [==============================] - 23s 83ms/step - loss: 0.3760 - accuracy: 0.8951\n",
            "Epoch 181/200\n",
            "272/272 [==============================] - 23s 83ms/step - loss: 0.3155 - accuracy: 0.9151\n",
            "Epoch 182/200\n",
            "272/272 [==============================] - 23s 83ms/step - loss: 0.2750 - accuracy: 0.9312\n",
            "Epoch 183/200\n",
            "272/272 [==============================] - 23s 84ms/step - loss: 0.2402 - accuracy: 0.9424\n",
            "Epoch 184/200\n",
            "272/272 [==============================] - 23s 83ms/step - loss: 0.2396 - accuracy: 0.9412\n",
            "Epoch 185/200\n",
            "272/272 [==============================] - 23s 83ms/step - loss: 0.2261 - accuracy: 0.9457\n",
            "Epoch 186/200\n",
            "272/272 [==============================] - 23s 83ms/step - loss: 0.2120 - accuracy: 0.9508\n",
            "Epoch 187/200\n",
            "272/272 [==============================] - 23s 83ms/step - loss: 0.2038 - accuracy: 0.9516\n",
            "Epoch 188/200\n",
            "272/272 [==============================] - 23s 83ms/step - loss: 0.2018 - accuracy: 0.9545\n",
            "Epoch 189/200\n",
            "272/272 [==============================] - 23s 83ms/step - loss: 0.2132 - accuracy: 0.9498\n",
            "Epoch 190/200\n",
            "272/272 [==============================] - 23s 83ms/step - loss: 0.2880 - accuracy: 0.9273\n",
            "Epoch 191/200\n",
            "272/272 [==============================] - 23s 84ms/step - loss: 0.6592 - accuracy: 0.8318\n",
            "Epoch 192/200\n",
            "272/272 [==============================] - 23s 84ms/step - loss: 1.2364 - accuracy: 0.7150\n",
            "Epoch 193/200\n",
            "272/272 [==============================] - 22s 83ms/step - loss: 1.1568 - accuracy: 0.7270\n",
            "Epoch 194/200\n",
            "272/272 [==============================] - 22s 82ms/step - loss: 0.8510 - accuracy: 0.7797\n",
            "Epoch 195/200\n",
            "272/272 [==============================] - 22s 82ms/step - loss: 0.5880 - accuracy: 0.8360\n",
            "Epoch 196/200\n",
            "272/272 [==============================] - 22s 82ms/step - loss: 0.4489 - accuracy: 0.8733\n",
            "Epoch 197/200\n",
            "272/272 [==============================] - 22s 82ms/step - loss: 0.3598 - accuracy: 0.9019\n",
            "Epoch 198/200\n",
            "272/272 [==============================] - 22s 82ms/step - loss: 0.2833 - accuracy: 0.9243\n",
            "Epoch 199/200\n",
            "272/272 [==============================] - 22s 82ms/step - loss: 0.2542 - accuracy: 0.9346\n",
            "Epoch 200/200\n",
            "272/272 [==============================] - 22s 81ms/step - loss: 0.2389 - accuracy: 0.9402\n",
            "<tensorflow.python.keras.engine.sequential.Sequential object at 0x7fb2083c1048>\n"
          ],
          "name": "stdout"
        }
      ]
    },
    {
      "cell_type": "markdown",
      "metadata": {
        "id": "9mHaAxQVU4ha",
        "colab_type": "text"
      },
      "source": [
        "This gives the summary of the model which means all the layers and the parameters included in them."
      ]
    },
    {
      "cell_type": "code",
      "metadata": {
        "id": "-Y4-hG35hcK6",
        "colab_type": "code",
        "colab": {
          "base_uri": "https://localhost:8080/",
          "height": 255
        },
        "outputId": "4279c49d-ecb2-438c-a65a-4edbe503d2cd"
      },
      "source": [
        "model.summary()\n"
      ],
      "execution_count": 6,
      "outputs": [
        {
          "output_type": "stream",
          "text": [
            "Model: \"sequential\"\n",
            "_________________________________________________________________\n",
            "Layer (type)                 Output Shape              Param #   \n",
            "=================================================================\n",
            "embedding (Embedding)        (None, 197, 100)          209500    \n",
            "_________________________________________________________________\n",
            "bidirectional (Bidirectional (None, 300)               301200    \n",
            "_________________________________________________________________\n",
            "dense (Dense)                (None, 2095)              630595    \n",
            "=================================================================\n",
            "Total params: 1,141,295\n",
            "Trainable params: 1,141,295\n",
            "Non-trainable params: 0\n",
            "_________________________________________________________________\n"
          ],
          "name": "stdout"
        }
      ]
    },
    {
      "cell_type": "markdown",
      "metadata": {
        "id": "rLtGCOEqU_KY",
        "colab_type": "text"
      },
      "source": [
        "5.1) This shows the model accuracy over the epochs and gives a graph for it."
      ]
    },
    {
      "cell_type": "code",
      "metadata": {
        "id": "JSo7XwrJcDCf",
        "colab_type": "code",
        "colab": {}
      },
      "source": [
        "import matplotlib.pyplot as plt\n",
        "\n",
        "\n",
        "def plot_graphs(history, string):\n",
        "  plt.plot(history.history[string])\n",
        "  plt.xlabel(\"Epochs\")\n",
        "  plt.ylabel(string)\n",
        "  plt.show()"
      ],
      "execution_count": 7,
      "outputs": []
    },
    {
      "cell_type": "code",
      "metadata": {
        "id": "dm891z_LcLNk",
        "colab_type": "code",
        "colab": {
          "base_uri": "https://localhost:8080/",
          "height": 282
        },
        "outputId": "1bea6450-2acf-47ce-f84b-5803683efa25"
      },
      "source": [
        "plot_graphs(history, 'accuracy')\n"
      ],
      "execution_count": 8,
      "outputs": [
        {
          "output_type": "display_data",
          "data": {
            "image/png": "[encoded data removed]",
            "text/plain": [
              "<Figure size 432x288 with 1 Axes>"
            ]
          },
          "metadata": {
            "tags": [],
            "needs_background": "light"
          }
        }
      ]
    },
    {
      "cell_type": "markdown",
      "metadata": {
        "id": "fvO3D4TgVLMs",
        "colab_type": "text"
      },
      "source": [
        "6.1) The seed_text is the variable which stores a string value which is worked upon further.\n",
        "\n",
        "6.2) The next_words is used to predict the total words further from seed_text\n",
        "\n",
        "6.3) The loop is run till the number we put in next_words\n",
        "\n",
        "6.4) token_list generates the token for words in the sentences successively.\n",
        "\n",
        "6.5) Padding is done for the token_list with length till the sentence having maximum number of words.\n",
        "\n",
        "6.6) The model is then used and the words are predicted based on the model which is trained above.\n",
        "\n",
        "6.7) If the index is found for the predicted word in all the words, the words is then stored into output_word which then breaks the loop if the word is found.\n",
        "\n",
        "6.8) After breaking of loop, the output_word is added to the seed text with a whitespace in between."
      ]
    },
    {
      "cell_type": "code",
      "metadata": {
        "id": "o2gxXa1ccPq-",
        "colab_type": "code",
        "colab": {
          "base_uri": "https://localhost:8080/",
          "height": 54
        },
        "outputId": "bcde9786-a4a6-4c65-8208-e1e7b058561c"
      },
      "source": [
        "\n",
        "seed_text = \"this is the story\"\n",
        "next_words = 100\n",
        "  \n",
        "for _ in range(next_words):\n",
        "\ttoken_list = tokenizer.texts_to_sequences([seed_text])[0]\n",
        "\ttoken_list = pad_sequences([token_list], maxlen=max_sequence_len-1, padding='pre')\n",
        "\tpredicted = model.predict_classes(token_list, verbose=0)\n",
        "\toutput_word = \"\"\n",
        "\tfor word, index in tokenizer.word_index.items():\n",
        "\t\tif index == predicted:\n",
        "\t\t\toutput_word = word\n",
        "\t\t\tbreak\n",
        "\tseed_text += \" \" + output_word\n",
        "\n",
        "print(seed_text)\n"
      ],
      "execution_count": 12,
      "outputs": [
        {
          "output_type": "stream",
          "text": [
            "this is the story i have named you queen i kiss in kiss in kiss in never in the hand that rose the whip against the maestros of darkness of cold walking and the earth like if it had been made by our lips like the kiss the one against carnations in water like a river of buried jaguars and we bit each other as fire bites leaving wounds in us fire us this and sea that i will write us the sky and we don t now we our love the earth like if i kiss them s fall asleep it had no\n"
          ],
          "name": "stdout"
        }
      ]
    },
    {
      "cell_type": "markdown",
      "metadata": {
        "id": "muQZlVv9XGKI",
        "colab_type": "text"
      },
      "source": [
        "7) I have joined this part to split the seed_text formed above into making a line for 5 words each. This then adds a newline and shifts the next 5 words to the next line."
      ]
    },
    {
      "cell_type": "code",
      "metadata": {
        "id": "rbeBPwiuV9aK",
        "colab_type": "code",
        "colab": {}
      },
      "source": [
        "words = seed_text.split()\n",
        "new_text = \"\"\n",
        "word_count = 0\n",
        "for word in words:\n",
        "    new_text += word + \" \"\n",
        "    word_count += 1\n",
        "    if word_count == 5:\n",
        "        new_text += \"\\n\"\n",
        "        word_count = 0"
      ],
      "execution_count": 13,
      "outputs": []
    },
    {
      "cell_type": "markdown",
      "metadata": {
        "id": "1AsgjBI2Xwjn",
        "colab_type": "text"
      },
      "source": [
        "8.) This then adds the output predicted for the Pablo Neruda poem to the 'Poem.txt' file which you can check in the GoogleDrive."
      ]
    },
    {
      "cell_type": "code",
      "metadata": {
        "id": "wHR0As_IBIgM",
        "colab_type": "code",
        "colab": {}
      },
      "source": [
        "f = open(\"/content/drive/My Drive/Poem AI/Poem.txt\", \"w\")\n",
        "f.write(new_text)\n",
        "f.close()"
      ],
      "execution_count": 14,
      "outputs": []
    },
    {
      "cell_type": "code",
      "metadata": {
        "id": "GJc-nmrBCTER",
        "colab_type": "code",
        "colab": {}
      },
      "source": [
        "\n"
      ],
      "execution_count": 11,
      "outputs": []
    },
    {
      "cell_type": "code",
      "metadata": {
        "id": "MkAnd3KKD1rw",
        "colab_type": "code",
        "colab": {}
      },
      "source": [
        ""
      ],
      "execution_count": 11,
      "outputs": []
    }
  ]
}